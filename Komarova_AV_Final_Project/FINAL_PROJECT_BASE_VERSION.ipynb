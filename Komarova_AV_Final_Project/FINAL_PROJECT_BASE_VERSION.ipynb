{
 "cells": [
  {
   "cell_type": "markdown",
   "id": "7bc29a39",
   "metadata": {},
   "source": [
    "<h1> Финальный проект <span class=\"tocSkip\"></span></h1>"
   ]
  },
  {
   "cell_type": "raw",
   "id": "f6a133d2",
   "metadata": {},
   "source": [
    "data_category = \", \".join([\"%s\"] * len(df_category))\n",
    "\n",
    "insert_query = (\n",
    "    f\"INSERT INTO C_CATEGORY (ID, category) VALUES {data_category}\"\n",
    ")\n",
    "\n",
    "conn.autocommit = True\n",
    "cur = conn.cursor()\n",
    "cur.execute(insert_query, df_shema_category)\n",
    "\n",
    "data_site = \", \".join([\"%s\"] * len(df_sites))\n",
    "\n",
    "insert_query = (\n",
    "    f\"INSERT INTO C_SITE (ID, site) VALUES {data_site}\"\n",
    ")\n",
    "\n",
    "conn.autocommit = True\n",
    "cur = conn.cursor()\n",
    "cur.execute(insert_query, df_shema_site)\n"
   ]
  },
  {
   "cell_type": "markdown",
   "id": "98c1912d",
   "metadata": {},
   "source": [
    "# Инициализирующий режим\n",
    "## Парсинг сайтов новостей"
   ]
  },
  {
   "cell_type": "code",
   "execution_count": 2,
   "id": "915becb5",
   "metadata": {},
   "outputs": [],
   "source": [
    "import requests as req \n",
    "from bs4 import BeautifulSoup   \n",
    "import time\n",
    "import json\n",
    "import tqdm\n",
    "\n",
    "import numpy as np\n",
    "import pandas as pd"
   ]
  },
  {
   "cell_type": "code",
   "execution_count": 3,
   "id": "f68582db",
   "metadata": {},
   "outputs": [],
   "source": [
    "pd.set_option('display.max_columns',None)\n",
    "pd.set_option('display.max_rows',None)"
   ]
  },
  {
   "cell_type": "code",
   "execution_count": 4,
   "id": "39645828",
   "metadata": {},
   "outputs": [],
   "source": [
    "sites = { 'Фонтонка.ру' : ['https://www.fontanka.ru/fontanka.rss', ''],\n",
    "                  'LENTA.RU' : ['https://lenta.ru/rss', ''],\n",
    "                  'TASS' : ['https://tass.ru/rss/v2.xml', ''],\n",
    "                  'ВЕДОМОСТИ' : ['https://www.vedomosti.ru/rss/news', '']\n",
    "           }"
   ]
  },
  {
   "cell_type": "code",
   "execution_count": 5,
   "id": "44f8116e",
   "metadata": {},
   "outputs": [
    {
     "data": {
      "text/plain": [
       "{'Фонтонка.ру': ['https://www.fontanka.ru/fontanka.rss', ''],\n",
       " 'LENTA.RU': ['https://lenta.ru/rss', ''],\n",
       " 'TASS': ['https://tass.ru/rss/v2.xml', ''],\n",
       " 'ВЕДОМОСТИ': ['https://www.vedomosti.ru/rss/news', '']}"
      ]
     },
     "execution_count": 5,
     "metadata": {},
     "output_type": "execute_result"
    }
   ],
   "source": [
    "sites"
   ]
  },
  {
   "cell_type": "code",
   "execution_count": 6,
   "id": "44e66c92",
   "metadata": {},
   "outputs": [
    {
     "data": {
      "text/plain": [
       "{'Фонтонка.ру': ['https://www.fontanka.ru/fontanka.rss', ''],\n",
       " 'LENTA.RU': ['https://lenta.ru/rss', ''],\n",
       " 'TASS': ['https://tass.ru/rss/v2.xml', ''],\n",
       " 'ВЕДОМОСТИ': ['https://www.vedomosti.ru/rss/news', '']}"
      ]
     },
     "execution_count": 6,
     "metadata": {},
     "output_type": "execute_result"
    }
   ],
   "source": [
    "sites "
   ]
  },
  {
   "cell_type": "code",
   "execution_count": 7,
   "id": "c2e25ab7",
   "metadata": {},
   "outputs": [],
   "source": [
    "# создадим пустые DataFrames, куда будем записывать данные\n",
    "data = {\"data\" : []  }\n",
    "data_dirty = {\"data\" : []  }\n",
    "df = pd.DataFrame(data['data'])\n",
    "df_dirty = pd.DataFrame(data_dirty['data'])"
   ]
  },
  {
   "cell_type": "code",
   "execution_count": 8,
   "id": "64831035",
   "metadata": {},
   "outputs": [],
   "source": [
    "# Функция парсит данные с сайтов из спика sites, записывает \"грязные данные\" в json файл,\n",
    "# а также возвращает два DataFrame: с только необходимыми нам данными и со всеми спарсенными данными\n",
    "\n",
    "def parsing(df, df_dirty):        \n",
    "        \n",
    "    for site in range(len(sites)):\n",
    "        \n",
    "        exitFlag=False\n",
    "        \n",
    "        data = {\"data\" : [] \n",
    "               }\n",
    "        data_dirty = {\"data\" : []  }\n",
    "       \n",
    "        url = list(sites.values())[site][0]\n",
    "                \n",
    "        resp = req.get(url)\n",
    "        soup  = BeautifulSoup(resp.content, features=\"lxml\")\n",
    "\n",
    "        tag_item = soup.find_all('item')\n",
    "        \n",
    "        for tag in tag_item:\n",
    "            \n",
    "            title = tag.find('title')\n",
    "            \n",
    "            if title.text != list(sites.values())[site][1]: \n",
    "                exitFlag=True \n",
    "                \n",
    "                category = tag.find('category')\n",
    "\n",
    "                date = tag.find('pubdate')\n",
    "\n",
    "                data['data'].append({\"title\" : title.text, \"category\": category.text,\n",
    "                                     \"pubdate\" : date.text, \"site\" : list(sites.keys())[site]\n",
    "                                    })\n",
    "                data_dirty['data'].append({\"site\" : list(sites.keys())[site], \"item\" : tag.text})\n",
    "\n",
    "\n",
    "                with open(f\"data_dirty_{pd.Timestamp('today'):%d-%m-%Y-%H-%M}.json\", \"w\", encoding=\"utf-8\") as file:\n",
    "                      json.dump(data_dirty, file, ensure_ascii = False)\n",
    "                        \n",
    "            else:\n",
    "                break                                \n",
    "                \n",
    "        if(exitFlag):\n",
    "            df = pd.concat([pd.DataFrame(data['data']), df], ignore_index=True)\n",
    "            df_dirty = pd.concat([pd.DataFrame(data_dirty['data']), df_dirty], ignore_index=True)        \n",
    "            sites[list(sites.keys())[site]][1] = df.iloc[0]['title']   \n",
    "          \n",
    "    return df, df_dirty"
   ]
  },
  {
   "cell_type": "code",
   "execution_count": 9,
   "id": "007fe139",
   "metadata": {},
   "outputs": [
    {
     "name": "stderr",
     "output_type": "stream",
     "text": [
      "C:\\Users\\ASUS\\anaconda3\\lib\\site-packages\\bs4\\builder\\__init__.py:545: XMLParsedAsHTMLWarning: It looks like you're parsing an XML document using an HTML parser. If this really is an HTML document (maybe it's XHTML?), you can ignore or filter this warning. If it's XML, you should know that using an XML parser will be more reliable. To parse this document as XML, make sure you have the lxml package installed, and pass the keyword argument `features=\"xml\"` into the BeautifulSoup constructor.\n",
      "  warnings.warn(\n",
      "C:\\Users\\ASUS\\anaconda3\\lib\\site-packages\\bs4\\builder\\__init__.py:545: XMLParsedAsHTMLWarning: It looks like you're parsing an XML document using an HTML parser. If this really is an HTML document (maybe it's XHTML?), you can ignore or filter this warning. If it's XML, you should know that using an XML parser will be more reliable. To parse this document as XML, make sure you have the lxml package installed, and pass the keyword argument `features=\"xml\"` into the BeautifulSoup constructor.\n",
      "  warnings.warn(\n",
      "C:\\Users\\ASUS\\anaconda3\\lib\\site-packages\\bs4\\builder\\__init__.py:545: XMLParsedAsHTMLWarning: It looks like you're parsing an XML document using an HTML parser. If this really is an HTML document (maybe it's XHTML?), you can ignore or filter this warning. If it's XML, you should know that using an XML parser will be more reliable. To parse this document as XML, make sure you have the lxml package installed, and pass the keyword argument `features=\"xml\"` into the BeautifulSoup constructor.\n",
      "  warnings.warn(\n",
      "C:\\Users\\ASUS\\anaconda3\\lib\\site-packages\\bs4\\builder\\__init__.py:545: XMLParsedAsHTMLWarning: It looks like you're parsing an XML document using an HTML parser. If this really is an HTML document (maybe it's XHTML?), you can ignore or filter this warning. If it's XML, you should know that using an XML parser will be more reliable. To parse this document as XML, make sure you have the lxml package installed, and pass the keyword argument `features=\"xml\"` into the BeautifulSoup constructor.\n",
      "  warnings.warn(\n"
     ]
    },
    {
     "data": {
      "text/html": [
       "<div>\n",
       "<style scoped>\n",
       "    .dataframe tbody tr th:only-of-type {\n",
       "        vertical-align: middle;\n",
       "    }\n",
       "\n",
       "    .dataframe tbody tr th {\n",
       "        vertical-align: top;\n",
       "    }\n",
       "\n",
       "    .dataframe thead th {\n",
       "        text-align: right;\n",
       "    }\n",
       "</style>\n",
       "<table border=\"1\" class=\"dataframe\">\n",
       "  <thead>\n",
       "    <tr style=\"text-align: right;\">\n",
       "      <th></th>\n",
       "      <th>title</th>\n",
       "      <th>category</th>\n",
       "      <th>pubdate</th>\n",
       "      <th>site</th>\n",
       "    </tr>\n",
       "  </thead>\n",
       "  <tbody>\n",
       "    <tr>\n",
       "      <th>27</th>\n",
       "      <td>Путин назначил прокуроров четырех новых регион...</td>\n",
       "      <td>Политика</td>\n",
       "      <td>Thu, 29 Dec 2022 16:45:00 +0300</td>\n",
       "      <td>ВЕДОМОСТИ</td>\n",
       "    </tr>\n",
       "    <tr>\n",
       "      <th>33</th>\n",
       "      <td>Путин подписал закон о штрафах до 5 млн рублей...</td>\n",
       "      <td>Общество</td>\n",
       "      <td>Thu, 29 Dec 2022 15:48:42 +0300</td>\n",
       "      <td>ВЕДОМОСТИ</td>\n",
       "    </tr>\n",
       "    <tr>\n",
       "      <th>386</th>\n",
       "      <td>Россияне посетили пустыню в ОАЭ и разочаровали...</td>\n",
       "      <td>Путешествия</td>\n",
       "      <td>Thu, 29 Dec 2022 20:21:00 +0300</td>\n",
       "      <td>LENTA.RU</td>\n",
       "    </tr>\n",
       "    <tr>\n",
       "      <th>65</th>\n",
       "      <td>В Совфеде раскритиковали идею конфисковывать и...</td>\n",
       "      <td>Политика</td>\n",
       "      <td>Thu, 29 Dec 2022 10:45:02 +0300</td>\n",
       "      <td>ВЕДОМОСТИ</td>\n",
       "    </tr>\n",
       "    <tr>\n",
       "      <th>111</th>\n",
       "      <td>Устроивший стрельбу в пермском вузе приговорен...</td>\n",
       "      <td>Общество</td>\n",
       "      <td>Wed, 28 Dec 2022 15:50:32 +0300</td>\n",
       "      <td>ВЕДОМОСТИ</td>\n",
       "    </tr>\n",
       "    <tr>\n",
       "      <th>447</th>\n",
       "      <td>Кадыров анонсировал более жестокую операцию «В...</td>\n",
       "      <td>Россия</td>\n",
       "      <td>Thu, 29 Dec 2022 18:08:00 +0300</td>\n",
       "      <td>LENTA.RU</td>\n",
       "    </tr>\n",
       "    <tr>\n",
       "      <th>462</th>\n",
       "      <td>Хоркина высказалась о смене гражданства россий...</td>\n",
       "      <td>Спорт</td>\n",
       "      <td>Thu, 29 Dec 2022 17:27:01 +0300</td>\n",
       "      <td>LENTA.RU</td>\n",
       "    </tr>\n",
       "    <tr>\n",
       "      <th>402</th>\n",
       "      <td>Банкам из недружественных стран разрешили выво...</td>\n",
       "      <td>Экономика</td>\n",
       "      <td>Thu, 29 Dec 2022 19:26:00 +0300</td>\n",
       "      <td>LENTA.RU</td>\n",
       "    </tr>\n",
       "  </tbody>\n",
       "</table>\n",
       "</div>"
      ],
      "text/plain": [
       "                                                 title     category  \\\n",
       "27   Путин назначил прокуроров четырех новых регион...     Политика   \n",
       "33   Путин подписал закон о штрафах до 5 млн рублей...     Общество   \n",
       "386  Россияне посетили пустыню в ОАЭ и разочаровали...  Путешествия   \n",
       "65   В Совфеде раскритиковали идею конфисковывать и...     Политика   \n",
       "111  Устроивший стрельбу в пермском вузе приговорен...     Общество   \n",
       "447  Кадыров анонсировал более жестокую операцию «В...       Россия   \n",
       "462  Хоркина высказалась о смене гражданства россий...        Спорт   \n",
       "402  Банкам из недружественных стран разрешили выво...    Экономика   \n",
       "\n",
       "                             pubdate       site  \n",
       "27   Thu, 29 Dec 2022 16:45:00 +0300  ВЕДОМОСТИ  \n",
       "33   Thu, 29 Dec 2022 15:48:42 +0300  ВЕДОМОСТИ  \n",
       "386  Thu, 29 Dec 2022 20:21:00 +0300   LENTA.RU  \n",
       "65   Thu, 29 Dec 2022 10:45:02 +0300  ВЕДОМОСТИ  \n",
       "111  Wed, 28 Dec 2022 15:50:32 +0300  ВЕДОМОСТИ  \n",
       "447  Thu, 29 Dec 2022 18:08:00 +0300   LENTA.RU  \n",
       "462  Thu, 29 Dec 2022 17:27:01 +0300   LENTA.RU  \n",
       "402  Thu, 29 Dec 2022 19:26:00 +0300   LENTA.RU  "
      ]
     },
     "execution_count": 9,
     "metadata": {},
     "output_type": "execute_result"
    }
   ],
   "source": [
    "df, df_dirty  = parsing(df, df_dirty) \n",
    "df.sample(8)"
   ]
  },
  {
   "cell_type": "code",
   "execution_count": 10,
   "id": "217d35ea",
   "metadata": {},
   "outputs": [
    {
     "name": "stdout",
     "output_type": "stream",
     "text": [
      "<class 'pandas.core.frame.DataFrame'>\n",
      "RangeIndex: 529 entries, 0 to 528\n",
      "Data columns (total 4 columns):\n",
      " #   Column    Non-Null Count  Dtype \n",
      "---  ------    --------------  ----- \n",
      " 0   title     529 non-null    object\n",
      " 1   category  529 non-null    object\n",
      " 2   pubdate   529 non-null    object\n",
      " 3   site      529 non-null    object\n",
      "dtypes: object(4)\n",
      "memory usage: 16.7+ KB\n"
     ]
    }
   ],
   "source": [
    "df.info()"
   ]
  },
  {
   "cell_type": "code",
   "execution_count": 11,
   "id": "7acc0e5d",
   "metadata": {},
   "outputs": [
    {
     "name": "stdout",
     "output_type": "stream",
     "text": [
      "<class 'pandas.core.frame.DataFrame'>\n",
      "RangeIndex: 529 entries, 0 to 528\n",
      "Data columns (total 2 columns):\n",
      " #   Column  Non-Null Count  Dtype \n",
      "---  ------  --------------  ----- \n",
      " 0   site    529 non-null    object\n",
      " 1   item    529 non-null    object\n",
      "dtypes: object(2)\n",
      "memory usage: 8.4+ KB\n"
     ]
    }
   ],
   "source": [
    "df_dirty.info()"
   ]
  },
  {
   "cell_type": "code",
   "execution_count": 12,
   "id": "2853b82b",
   "metadata": {},
   "outputs": [
    {
     "data": {
      "text/html": [
       "<div>\n",
       "<style scoped>\n",
       "    .dataframe tbody tr th:only-of-type {\n",
       "        vertical-align: middle;\n",
       "    }\n",
       "\n",
       "    .dataframe tbody tr th {\n",
       "        vertical-align: top;\n",
       "    }\n",
       "\n",
       "    .dataframe thead th {\n",
       "        text-align: right;\n",
       "    }\n",
       "</style>\n",
       "<table border=\"1\" class=\"dataframe\">\n",
       "  <thead>\n",
       "    <tr style=\"text-align: right;\">\n",
       "      <th></th>\n",
       "      <th>title</th>\n",
       "      <th>category</th>\n",
       "      <th>pubdate</th>\n",
       "      <th>site</th>\n",
       "    </tr>\n",
       "  </thead>\n",
       "  <tbody>\n",
       "    <tr>\n",
       "      <th>0</th>\n",
       "      <td>Путин подписал закон о создании единой базы ге...</td>\n",
       "      <td>Технологии</td>\n",
       "      <td>Thu, 29 Dec 2022 22:41:42 +0300</td>\n",
       "      <td>ВЕДОМОСТИ</td>\n",
       "    </tr>\n",
       "    <tr>\n",
       "      <th>1</th>\n",
       "      <td>Умер трехкратный чемпион мира по футболу Пеле</td>\n",
       "      <td>Общество</td>\n",
       "      <td>Thu, 29 Dec 2022 22:19:00 +0300</td>\n",
       "      <td>ВЕДОМОСТИ</td>\n",
       "    </tr>\n",
       "    <tr>\n",
       "      <th>2</th>\n",
       "      <td>Путин утвердил приостановку взыскания долгов с...</td>\n",
       "      <td>Общество</td>\n",
       "      <td>Thu, 29 Dec 2022 21:57:07 +0300</td>\n",
       "      <td>ВЕДОМОСТИ</td>\n",
       "    </tr>\n",
       "    <tr>\n",
       "      <th>3</th>\n",
       "      <td>Киев заявил о готовности расследовать инцидент...</td>\n",
       "      <td>Политика</td>\n",
       "      <td>Thu, 29 Dec 2022 21:32:44 +0300</td>\n",
       "      <td>ВЕДОМОСТИ</td>\n",
       "    </tr>\n",
       "    <tr>\n",
       "      <th>4</th>\n",
       "      <td>Путин подписал закон о предупреждении рисков п...</td>\n",
       "      <td>Бизнес</td>\n",
       "      <td>Thu, 29 Dec 2022 21:12:16 +0300</td>\n",
       "      <td>ВЕДОМОСТИ</td>\n",
       "    </tr>\n",
       "  </tbody>\n",
       "</table>\n",
       "</div>"
      ],
      "text/plain": [
       "                                               title    category  \\\n",
       "0  Путин подписал закон о создании единой базы ге...  Технологии   \n",
       "1      Умер трехкратный чемпион мира по футболу Пеле    Общество   \n",
       "2  Путин утвердил приостановку взыскания долгов с...    Общество   \n",
       "3  Киев заявил о готовности расследовать инцидент...    Политика   \n",
       "4  Путин подписал закон о предупреждении рисков п...      Бизнес   \n",
       "\n",
       "                           pubdate       site  \n",
       "0  Thu, 29 Dec 2022 22:41:42 +0300  ВЕДОМОСТИ  \n",
       "1  Thu, 29 Dec 2022 22:19:00 +0300  ВЕДОМОСТИ  \n",
       "2  Thu, 29 Dec 2022 21:57:07 +0300  ВЕДОМОСТИ  \n",
       "3  Thu, 29 Dec 2022 21:32:44 +0300  ВЕДОМОСТИ  \n",
       "4  Thu, 29 Dec 2022 21:12:16 +0300  ВЕДОМОСТИ  "
      ]
     },
     "execution_count": 12,
     "metadata": {},
     "output_type": "execute_result"
    }
   ],
   "source": [
    "df.head(5)"
   ]
  },
  {
   "cell_type": "code",
   "execution_count": 13,
   "id": "071fcc07",
   "metadata": {},
   "outputs": [],
   "source": [
    "df = df.drop_duplicates()"
   ]
  },
  {
   "cell_type": "code",
   "execution_count": 14,
   "id": "7aaab621",
   "metadata": {},
   "outputs": [],
   "source": [
    "# Создадим копию данных для возможного отката назад и сохраним их\n",
    "df_init = df.copy(deep=True)\n",
    "\n",
    "with open(\"df_init\", \"w\", encoding=\"utf-8\") as file:\n",
    "                  json.dump(df_init.to_dict(), file, ensure_ascii = False)\n",
    "        \n",
    "with open(\"sites.json\", \"w\", encoding=\"utf-8\") as file:\n",
    "                  json.dump(sites, file, ensure_ascii = False)           "
   ]
  },
  {
   "cell_type": "code",
   "execution_count": 15,
   "id": "b7bc1dfb",
   "metadata": {},
   "outputs": [
    {
     "data": {
      "text/html": [
       "<div>\n",
       "<style scoped>\n",
       "    .dataframe tbody tr th:only-of-type {\n",
       "        vertical-align: middle;\n",
       "    }\n",
       "\n",
       "    .dataframe tbody tr th {\n",
       "        vertical-align: top;\n",
       "    }\n",
       "\n",
       "    .dataframe thead th {\n",
       "        text-align: right;\n",
       "    }\n",
       "</style>\n",
       "<table border=\"1\" class=\"dataframe\">\n",
       "  <thead>\n",
       "    <tr style=\"text-align: right;\">\n",
       "      <th></th>\n",
       "      <th>title</th>\n",
       "      <th>category</th>\n",
       "      <th>pubdate</th>\n",
       "      <th>site</th>\n",
       "    </tr>\n",
       "  </thead>\n",
       "  <tbody>\n",
       "    <tr>\n",
       "      <th>0</th>\n",
       "      <td>Путин подписал закон о создании единой базы ге...</td>\n",
       "      <td>Технологии</td>\n",
       "      <td>Thu, 29 Dec 2022 22:41:42 +0300</td>\n",
       "      <td>ВЕДОМОСТИ</td>\n",
       "    </tr>\n",
       "    <tr>\n",
       "      <th>1</th>\n",
       "      <td>Умер трехкратный чемпион мира по футболу Пеле</td>\n",
       "      <td>Общество</td>\n",
       "      <td>Thu, 29 Dec 2022 22:19:00 +0300</td>\n",
       "      <td>ВЕДОМОСТИ</td>\n",
       "    </tr>\n",
       "    <tr>\n",
       "      <th>2</th>\n",
       "      <td>Путин утвердил приостановку взыскания долгов с...</td>\n",
       "      <td>Общество</td>\n",
       "      <td>Thu, 29 Dec 2022 21:57:07 +0300</td>\n",
       "      <td>ВЕДОМОСТИ</td>\n",
       "    </tr>\n",
       "    <tr>\n",
       "      <th>3</th>\n",
       "      <td>Киев заявил о готовности расследовать инцидент...</td>\n",
       "      <td>Политика</td>\n",
       "      <td>Thu, 29 Dec 2022 21:32:44 +0300</td>\n",
       "      <td>ВЕДОМОСТИ</td>\n",
       "    </tr>\n",
       "    <tr>\n",
       "      <th>4</th>\n",
       "      <td>Путин подписал закон о предупреждении рисков п...</td>\n",
       "      <td>Бизнес</td>\n",
       "      <td>Thu, 29 Dec 2022 21:12:16 +0300</td>\n",
       "      <td>ВЕДОМОСТИ</td>\n",
       "    </tr>\n",
       "  </tbody>\n",
       "</table>\n",
       "</div>"
      ],
      "text/plain": [
       "                                               title    category  \\\n",
       "0  Путин подписал закон о создании единой базы ге...  Технологии   \n",
       "1      Умер трехкратный чемпион мира по футболу Пеле    Общество   \n",
       "2  Путин утвердил приостановку взыскания долгов с...    Общество   \n",
       "3  Киев заявил о готовности расследовать инцидент...    Политика   \n",
       "4  Путин подписал закон о предупреждении рисков п...      Бизнес   \n",
       "\n",
       "                           pubdate       site  \n",
       "0  Thu, 29 Dec 2022 22:41:42 +0300  ВЕДОМОСТИ  \n",
       "1  Thu, 29 Dec 2022 22:19:00 +0300  ВЕДОМОСТИ  \n",
       "2  Thu, 29 Dec 2022 21:57:07 +0300  ВЕДОМОСТИ  \n",
       "3  Thu, 29 Dec 2022 21:32:44 +0300  ВЕДОМОСТИ  \n",
       "4  Thu, 29 Dec 2022 21:12:16 +0300  ВЕДОМОСТИ  "
      ]
     },
     "execution_count": 15,
     "metadata": {},
     "output_type": "execute_result"
    }
   ],
   "source": [
    "df = pd.read_json(\"df_init\")\n",
    "df.head()"
   ]
  },
  {
   "cell_type": "markdown",
   "id": "5a629f4e",
   "metadata": {},
   "source": [
    "## Обаботка и подготовка данных"
   ]
  },
  {
   "cell_type": "markdown",
   "id": "815ce665",
   "metadata": {},
   "source": [
    "### Работа с различными категориями"
   ]
  },
  {
   "cell_type": "markdown",
   "id": "103ccce5",
   "metadata": {},
   "source": [
    "Выделим основные категории, переименуем их. В случае появления новых категорий, будет отрпавлять в категорию \"Всякое другое\"."
   ]
  },
  {
   "cell_type": "code",
   "execution_count": 16,
   "id": "792dfa73",
   "metadata": {},
   "outputs": [],
   "source": [
    "df['category'] = np.where(((df['category']=='Экономика') | (df['category']=='Бизнес') \n",
    "                           | (df['category']=='Финансы') | (df['category']=='Бизнес / Транспорт')),\n",
    "                          'Экономика и бизнес', df['category']) \n",
    "\n",
    "df['category'] = np.where(((df['category']=='Моя страна') | (df['category']=='Москва')\n",
    "                           | (df['category']=='Город') | (df['category']=='Доктор Питер')\n",
    "                           | (df['category']=='Среда обитания') | (df['category']=='69-я параллель')\n",
    "                           | (df['category']=='Северо-Запад')), 'Россия', df['category'])  \n",
    "\n",
    "df['category'] = np.where(((df['category']=='Международная панорама') | (df['category']=='Бывший СССР')),\n",
    "                          'Мир', df['category'])\n",
    "\n",
    "df['category'] = np.where(((df['category']=='Силовые структуры') | (df['category']=='Космос')),\n",
    "                          'Армия и ОПК', df['category']) \n",
    "\n",
    "df['category'] = np.where((df['category']=='Технологии'),'Наука и техника', df['category'])\n",
    "\n",
    "df['category'] = np.where(((df['category']=='Власть')),'Политика', df['category']) \n",
    "\n",
    "df['category'] = np.where(((df['category']=='Из жизни') \n",
    "                           | (df['category']=='Биографии и справки') | (df['category']=='Особое мнение')\n",
    "                          | (df['category']=='новости')), 'Происшествия', df['category'])\n",
    "\n",
    "df['category'] = np.where((df['category']=='Туризм и отдых') | (df['category']=='Туризм'),\n",
    "                          'Путешествия', df['category']) \n",
    "\n",
    "df['category'] = np.where((df['category']=='Афиша Plus'),'Культура', df['category'])\n",
    "\n",
    "df['category'] = np.where((df['category']=='Забота о себе'),'Здоровье', df['category'])\n",
    "\n",
    "df['category'] = np.where(((df['category']=='Ценности') | (df['category']=='Медиа')),'Интернет и СМИ', df['category']) \n",
    "\n",
    "df['category'] = np.where(((df['category']=='Авто') \n",
    "                           | (df['category']=='Недвижимость')),'Недвижимость и Авто', df['category'])"
   ]
  },
  {
   "cell_type": "code",
   "execution_count": 17,
   "id": "e12b7df1",
   "metadata": {},
   "outputs": [
    {
     "data": {
      "text/plain": [
       "Политика               87\n",
       "Экономика и бизнес     87\n",
       "Общество               84\n",
       "Мир                    75\n",
       "Россия                 44\n",
       "Происшествия           29\n",
       "Спорт                  28\n",
       "Интернет и СМИ         24\n",
       "Наука и техника        23\n",
       "Армия и ОПК            20\n",
       "Культура                9\n",
       "Здоровье                9\n",
       "Путешествия             8\n",
       "Недвижимость и Авто     2\n",
       "Name: category, dtype: int64"
      ]
     },
     "execution_count": 17,
     "metadata": {},
     "output_type": "execute_result"
    }
   ],
   "source": [
    "df['category'].value_counts()"
   ]
  },
  {
   "cell_type": "code",
   "execution_count": 18,
   "id": "6b755b90",
   "metadata": {},
   "outputs": [
    {
     "data": {
      "text/plain": [
       "['Политика',\n",
       " 'Экономика и бизнес',\n",
       " 'Мир',\n",
       " 'Россия',\n",
       " 'Происшествия',\n",
       " 'Наука и техника',\n",
       " 'Интернет и СМИ',\n",
       " 'Армия и ОПК',\n",
       " 'Спорт',\n",
       " 'Путешествия',\n",
       " 'Культура',\n",
       " 'Здоровье']"
      ]
     },
     "execution_count": 18,
     "metadata": {},
     "output_type": "execute_result"
    }
   ],
   "source": [
    "new_category = ['Политика',\n",
    " 'Экономика и бизнес',\n",
    " 'Мир',\n",
    " 'Россия',\n",
    " 'Происшествия',\n",
    " 'Наука и техника',\n",
    " 'Интернет и СМИ',\n",
    " 'Армия и ОПК',\n",
    " 'Спорт',\n",
    " 'Путешествия',\n",
    " 'Культура',\n",
    " 'Здоровье'  ]\n",
    "\n",
    "new_category"
   ]
  },
  {
   "cell_type": "code",
   "execution_count": 19,
   "id": "06c6804a",
   "metadata": {},
   "outputs": [],
   "source": [
    "for cat in list(df['category'].value_counts().index):\n",
    "     if cat not in new_category:\n",
    "       df['category'] = np.where((df['category'] == cat),'Всякое другое', df['category'])"
   ]
  },
  {
   "cell_type": "code",
   "execution_count": 20,
   "id": "c28651da",
   "metadata": {},
   "outputs": [
    {
     "data": {
      "text/plain": [
       "Политика              87\n",
       "Экономика и бизнес    87\n",
       "Всякое другое         86\n",
       "Мир                   75\n",
       "Россия                44\n",
       "Происшествия          29\n",
       "Спорт                 28\n",
       "Интернет и СМИ        24\n",
       "Наука и техника       23\n",
       "Армия и ОПК           20\n",
       "Культура               9\n",
       "Здоровье               9\n",
       "Путешествия            8\n",
       "Name: category, dtype: int64"
      ]
     },
     "execution_count": 20,
     "metadata": {},
     "output_type": "execute_result"
    }
   ],
   "source": [
    "df['category'].value_counts()"
   ]
  },
  {
   "cell_type": "markdown",
   "id": "7d05edfb",
   "metadata": {},
   "source": [
    "### Создадим DataFrame с нумерованным списком категорий"
   ]
  },
  {
   "cell_type": "code",
   "execution_count": 21,
   "id": "1282e868",
   "metadata": {},
   "outputs": [
    {
     "data": {
      "text/html": [
       "<div>\n",
       "<style scoped>\n",
       "    .dataframe tbody tr th:only-of-type {\n",
       "        vertical-align: middle;\n",
       "    }\n",
       "\n",
       "    .dataframe tbody tr th {\n",
       "        vertical-align: top;\n",
       "    }\n",
       "\n",
       "    .dataframe thead th {\n",
       "        text-align: right;\n",
       "    }\n",
       "</style>\n",
       "<table border=\"1\" class=\"dataframe\">\n",
       "  <thead>\n",
       "    <tr style=\"text-align: right;\">\n",
       "      <th></th>\n",
       "      <th>id</th>\n",
       "      <th>category</th>\n",
       "    </tr>\n",
       "  </thead>\n",
       "  <tbody>\n",
       "    <tr>\n",
       "      <th>0</th>\n",
       "      <td>0</td>\n",
       "      <td>Наука и техника</td>\n",
       "    </tr>\n",
       "    <tr>\n",
       "      <th>1</th>\n",
       "      <td>1</td>\n",
       "      <td>Всякое другое</td>\n",
       "    </tr>\n",
       "    <tr>\n",
       "      <th>2</th>\n",
       "      <td>2</td>\n",
       "      <td>Политика</td>\n",
       "    </tr>\n",
       "    <tr>\n",
       "      <th>3</th>\n",
       "      <td>3</td>\n",
       "      <td>Экономика и бизнес</td>\n",
       "    </tr>\n",
       "    <tr>\n",
       "      <th>4</th>\n",
       "      <td>4</td>\n",
       "      <td>Интернет и СМИ</td>\n",
       "    </tr>\n",
       "    <tr>\n",
       "      <th>5</th>\n",
       "      <td>5</td>\n",
       "      <td>Мир</td>\n",
       "    </tr>\n",
       "    <tr>\n",
       "      <th>6</th>\n",
       "      <td>6</td>\n",
       "      <td>Россия</td>\n",
       "    </tr>\n",
       "    <tr>\n",
       "      <th>7</th>\n",
       "      <td>7</td>\n",
       "      <td>Происшествия</td>\n",
       "    </tr>\n",
       "    <tr>\n",
       "      <th>8</th>\n",
       "      <td>8</td>\n",
       "      <td>Армия и ОПК</td>\n",
       "    </tr>\n",
       "    <tr>\n",
       "      <th>9</th>\n",
       "      <td>9</td>\n",
       "      <td>Культура</td>\n",
       "    </tr>\n",
       "    <tr>\n",
       "      <th>10</th>\n",
       "      <td>10</td>\n",
       "      <td>Спорт</td>\n",
       "    </tr>\n",
       "    <tr>\n",
       "      <th>11</th>\n",
       "      <td>11</td>\n",
       "      <td>Здоровье</td>\n",
       "    </tr>\n",
       "    <tr>\n",
       "      <th>12</th>\n",
       "      <td>12</td>\n",
       "      <td>Путешествия</td>\n",
       "    </tr>\n",
       "  </tbody>\n",
       "</table>\n",
       "</div>"
      ],
      "text/plain": [
       "    id            category\n",
       "0    0     Наука и техника\n",
       "1    1       Всякое другое\n",
       "2    2            Политика\n",
       "3    3  Экономика и бизнес\n",
       "4    4      Интернет и СМИ\n",
       "5    5                 Мир\n",
       "6    6              Россия\n",
       "7    7        Происшествия\n",
       "8    8         Армия и ОПК\n",
       "9    9            Культура\n",
       "10  10               Спорт\n",
       "11  11            Здоровье\n",
       "12  12         Путешествия"
      ]
     },
     "execution_count": 21,
     "metadata": {},
     "output_type": "execute_result"
    }
   ],
   "source": [
    "df_category = pd.DataFrame(df['category'].unique())\n",
    "df_category = df_category.rename_axis('id').reset_index()\n",
    "df_category = df_category.rename(columns={0:'category'})\n",
    "neworder = ['id','category'] \n",
    "df_category = df_category.reindex(columns=neworder)\n",
    "df_category"
   ]
  },
  {
   "cell_type": "markdown",
   "id": "a7ed5017",
   "metadata": {},
   "source": [
    "### Создадим DataFrame с нумерованным списком сайтов-источников"
   ]
  },
  {
   "cell_type": "code",
   "execution_count": 22,
   "id": "758109cf",
   "metadata": {},
   "outputs": [
    {
     "data": {
      "text/html": [
       "<div>\n",
       "<style scoped>\n",
       "    .dataframe tbody tr th:only-of-type {\n",
       "        vertical-align: middle;\n",
       "    }\n",
       "\n",
       "    .dataframe tbody tr th {\n",
       "        vertical-align: top;\n",
       "    }\n",
       "\n",
       "    .dataframe thead th {\n",
       "        text-align: right;\n",
       "    }\n",
       "</style>\n",
       "<table border=\"1\" class=\"dataframe\">\n",
       "  <thead>\n",
       "    <tr style=\"text-align: right;\">\n",
       "      <th></th>\n",
       "      <th>id</th>\n",
       "      <th>site</th>\n",
       "    </tr>\n",
       "  </thead>\n",
       "  <tbody>\n",
       "    <tr>\n",
       "      <th>0</th>\n",
       "      <td>0</td>\n",
       "      <td>ВЕДОМОСТИ</td>\n",
       "    </tr>\n",
       "    <tr>\n",
       "      <th>1</th>\n",
       "      <td>1</td>\n",
       "      <td>TASS</td>\n",
       "    </tr>\n",
       "    <tr>\n",
       "      <th>2</th>\n",
       "      <td>2</td>\n",
       "      <td>LENTA.RU</td>\n",
       "    </tr>\n",
       "    <tr>\n",
       "      <th>3</th>\n",
       "      <td>3</td>\n",
       "      <td>Фонтонка.ру</td>\n",
       "    </tr>\n",
       "  </tbody>\n",
       "</table>\n",
       "</div>"
      ],
      "text/plain": [
       "   id         site\n",
       "0   0    ВЕДОМОСТИ\n",
       "1   1         TASS\n",
       "2   2     LENTA.RU\n",
       "3   3  Фонтонка.ру"
      ]
     },
     "execution_count": 22,
     "metadata": {},
     "output_type": "execute_result"
    }
   ],
   "source": [
    "df_sites  = pd.DataFrame(df['site'].unique())\n",
    "df_sites  = df_sites.rename_axis('id').reset_index()\n",
    "df_sites  = df_sites.rename(columns={0:'site'})\n",
    "neworder = ['id','site']  \n",
    "df_sites  = df_sites.reindex(columns=neworder)\n",
    "df_sites "
   ]
  },
  {
   "cell_type": "markdown",
   "id": "66fbef7d",
   "metadata": {},
   "source": [
    "### Создадим DataFrame с нумерованным списком новостей: id, номер категории, номер сайта и дата"
   ]
  },
  {
   "cell_type": "code",
   "execution_count": 23,
   "id": "2ee93cab",
   "metadata": {},
   "outputs": [],
   "source": [
    "df_news = df.copy()\n",
    "df_news['date_of_week'] = 1\n",
    "df_news['date_and_time'] = 1"
   ]
  },
  {
   "cell_type": "markdown",
   "id": "bb0b5d89",
   "metadata": {},
   "source": [
    "Разделим даты на день недели и все остальное."
   ]
  },
  {
   "cell_type": "code",
   "execution_count": 24,
   "id": "783e9648",
   "metadata": {},
   "outputs": [
    {
     "name": "stderr",
     "output_type": "stream",
     "text": [
      "C:\\Users\\ASUS\\AppData\\Local\\Temp\\ipykernel_21532\\1006716051.py:3: SettingWithCopyWarning: \n",
      "A value is trying to be set on a copy of a slice from a DataFrame\n",
      "\n",
      "See the caveats in the documentation: https://pandas.pydata.org/pandas-docs/stable/user_guide/indexing.html#returning-a-view-versus-a-copy\n",
      "  df_news['date_of_week'][index] = row[0]\n",
      "C:\\Users\\ASUS\\AppData\\Local\\Temp\\ipykernel_21532\\1006716051.py:4: SettingWithCopyWarning: \n",
      "A value is trying to be set on a copy of a slice from a DataFrame\n",
      "\n",
      "See the caveats in the documentation: https://pandas.pydata.org/pandas-docs/stable/user_guide/indexing.html#returning-a-view-versus-a-copy\n",
      "  df_news['date_and_time'][index] = \" \".join(row[1].split()[:-1])\n"
     ]
    }
   ],
   "source": [
    "for index, row in enumerate(df_news['pubdate'].str.split(',')):\n",
    "    #print(row)\n",
    "    df_news['date_of_week'][index] = row[0]\n",
    "    df_news['date_and_time'][index] = \" \".join(row[1].split()[:-1])"
   ]
  },
  {
   "cell_type": "markdown",
   "id": "a862732a",
   "metadata": {},
   "source": [
    "Пронумеруем наши новости"
   ]
  },
  {
   "cell_type": "code",
   "execution_count": 25,
   "id": "c2cf2869",
   "metadata": {},
   "outputs": [
    {
     "data": {
      "text/html": [
       "<div>\n",
       "<style scoped>\n",
       "    .dataframe tbody tr th:only-of-type {\n",
       "        vertical-align: middle;\n",
       "    }\n",
       "\n",
       "    .dataframe tbody tr th {\n",
       "        vertical-align: top;\n",
       "    }\n",
       "\n",
       "    .dataframe thead th {\n",
       "        text-align: right;\n",
       "    }\n",
       "</style>\n",
       "<table border=\"1\" class=\"dataframe\">\n",
       "  <thead>\n",
       "    <tr style=\"text-align: right;\">\n",
       "      <th></th>\n",
       "      <th>title</th>\n",
       "      <th>category</th>\n",
       "      <th>site</th>\n",
       "      <th>date_of_week</th>\n",
       "      <th>date_and_time</th>\n",
       "    </tr>\n",
       "  </thead>\n",
       "  <tbody>\n",
       "    <tr>\n",
       "      <th>53</th>\n",
       "      <td>В Энгельсе сработала система ПВО</td>\n",
       "      <td>Политика</td>\n",
       "      <td>ВЕДОМОСТИ</td>\n",
       "      <td>Thu</td>\n",
       "      <td>29 Dec 2022 12:49:38</td>\n",
       "    </tr>\n",
       "    <tr>\n",
       "      <th>349</th>\n",
       "      <td>Директора российского центра творчества уволил...</td>\n",
       "      <td>Россия</td>\n",
       "      <td>LENTA.RU</td>\n",
       "      <td>Thu</td>\n",
       "      <td>29 Dec 2022 23:45:00</td>\n",
       "    </tr>\n",
       "    <tr>\n",
       "      <th>484</th>\n",
       "      <td>Дрейк ответил на обвинения девушки в абьюзе</td>\n",
       "      <td>Культура</td>\n",
       "      <td>LENTA.RU</td>\n",
       "      <td>Thu</td>\n",
       "      <td>29 Dec 2022 16:42:00</td>\n",
       "    </tr>\n",
       "    <tr>\n",
       "      <th>224</th>\n",
       "      <td>Мизулина назвала затраты организаторов информа...</td>\n",
       "      <td>Всякое другое</td>\n",
       "      <td>TASS</td>\n",
       "      <td>Fri</td>\n",
       "      <td>30 Dec 2022 03:20:16</td>\n",
       "    </tr>\n",
       "    <tr>\n",
       "      <th>205</th>\n",
       "      <td>В проливе Дарданеллы приостановили судоходство...</td>\n",
       "      <td>Мир</td>\n",
       "      <td>TASS</td>\n",
       "      <td>Fri</td>\n",
       "      <td>30 Dec 2022 06:37:15</td>\n",
       "    </tr>\n",
       "    <tr>\n",
       "      <th>473</th>\n",
       "      <td>Временный скачок цен на электроэнергию объяснили</td>\n",
       "      <td>Россия</td>\n",
       "      <td>LENTA.RU</td>\n",
       "      <td>Thu</td>\n",
       "      <td>29 Dec 2022 16:56:00</td>\n",
       "    </tr>\n",
       "    <tr>\n",
       "      <th>65</th>\n",
       "      <td>В Совфеде раскритиковали идею конфисковывать и...</td>\n",
       "      <td>Политика</td>\n",
       "      <td>ВЕДОМОСТИ</td>\n",
       "      <td>Thu</td>\n",
       "      <td>29 Dec 2022 10:45:02</td>\n",
       "    </tr>\n",
       "  </tbody>\n",
       "</table>\n",
       "</div>"
      ],
      "text/plain": [
       "                                                 title       category  \\\n",
       "53                    В Энгельсе сработала система ПВО       Политика   \n",
       "349  Директора российского центра творчества уволил...         Россия   \n",
       "484        Дрейк ответил на обвинения девушки в абьюзе       Культура   \n",
       "224  Мизулина назвала затраты организаторов информа...  Всякое другое   \n",
       "205  В проливе Дарданеллы приостановили судоходство...            Мир   \n",
       "473   Временный скачок цен на электроэнергию объяснили         Россия   \n",
       "65   В Совфеде раскритиковали идею конфисковывать и...       Политика   \n",
       "\n",
       "          site date_of_week         date_and_time  \n",
       "53   ВЕДОМОСТИ          Thu  29 Dec 2022 12:49:38  \n",
       "349   LENTA.RU          Thu  29 Dec 2022 23:45:00  \n",
       "484   LENTA.RU          Thu  29 Dec 2022 16:42:00  \n",
       "224       TASS          Fri  30 Dec 2022 03:20:16  \n",
       "205       TASS          Fri  30 Dec 2022 06:37:15  \n",
       "473   LENTA.RU          Thu  29 Dec 2022 16:56:00  \n",
       "65   ВЕДОМОСТИ          Thu  29 Dec 2022 10:45:02  "
      ]
     },
     "execution_count": 25,
     "metadata": {},
     "output_type": "execute_result"
    }
   ],
   "source": [
    "df_news = df_news.drop(columns = ['pubdate'])\n",
    "#df_news['id'] = df_news.index\n",
    "df_news.sample(7)"
   ]
  },
  {
   "cell_type": "markdown",
   "id": "8acbde3d",
   "metadata": {},
   "source": [
    "Кодируем категории новостей и названия сайтов."
   ]
  },
  {
   "cell_type": "raw",
   "id": "704dc1be",
   "metadata": {},
   "source": [
    "from sklearn import preprocessing\n",
    "from sklearn.preprocessing import LabelEncoder\n",
    "\n",
    "le  = preprocessing.LabelEncoder()"
   ]
  },
  {
   "cell_type": "raw",
   "id": "827b8505",
   "metadata": {},
   "source": [
    "le.fit(list(df_news['category'].unique()))\n",
    "df_news['category_num'] = le.transform(df_news['category'])\n",
    "le_name_mapping = dict(zip(le.classes_, le.transform(le.classes_)))\n",
    "print(le_name_mapping)"
   ]
  },
  {
   "cell_type": "raw",
   "id": "c881e147",
   "metadata": {},
   "source": [
    "le_2  = preprocessing.LabelEncoder()\n",
    "le_2.fit(list(df_news['site'].unique()))\n",
    "df_news['site_num'] = le_2.transform(df_news['site'])\n",
    "le_name_mapping_2 = dict(zip(le_2.classes_, le_2.transform(le_2.classes_)))\n",
    "print(le_name_mapping_2)"
   ]
  },
  {
   "cell_type": "markdown",
   "id": "f824d88d",
   "metadata": {},
   "source": [
    "Проверим, что все корректно работает!"
   ]
  },
  {
   "cell_type": "code",
   "execution_count": 26,
   "id": "2275eee7",
   "metadata": {},
   "outputs": [
    {
     "data": {
      "text/html": [
       "<div>\n",
       "<style scoped>\n",
       "    .dataframe tbody tr th:only-of-type {\n",
       "        vertical-align: middle;\n",
       "    }\n",
       "\n",
       "    .dataframe tbody tr th {\n",
       "        vertical-align: top;\n",
       "    }\n",
       "\n",
       "    .dataframe thead th {\n",
       "        text-align: right;\n",
       "    }\n",
       "</style>\n",
       "<table border=\"1\" class=\"dataframe\">\n",
       "  <thead>\n",
       "    <tr style=\"text-align: right;\">\n",
       "      <th></th>\n",
       "      <th>title</th>\n",
       "      <th>category</th>\n",
       "      <th>site</th>\n",
       "      <th>date_of_week</th>\n",
       "      <th>date_and_time</th>\n",
       "    </tr>\n",
       "  </thead>\n",
       "  <tbody>\n",
       "    <tr>\n",
       "      <th>33</th>\n",
       "      <td>Путин подписал закон о штрафах до 5 млн рублей...</td>\n",
       "      <td>Всякое другое</td>\n",
       "      <td>ВЕДОМОСТИ</td>\n",
       "      <td>Thu</td>\n",
       "      <td>29 Dec 2022 15:48:42</td>\n",
       "    </tr>\n",
       "    <tr>\n",
       "      <th>52</th>\n",
       "      <td>В Брянской области сообщили о сбитых беспилотн...</td>\n",
       "      <td>Политика</td>\n",
       "      <td>ВЕДОМОСТИ</td>\n",
       "      <td>Thu</td>\n",
       "      <td>29 Dec 2022 12:53:32</td>\n",
       "    </tr>\n",
       "    <tr>\n",
       "      <th>179</th>\n",
       "      <td>Путин поговорил по телефону с загадавшей побыв...</td>\n",
       "      <td>Всякое другое</td>\n",
       "      <td>ВЕДОМОСТИ</td>\n",
       "      <td>Tue</td>\n",
       "      <td>27 Dec 2022 16:14:18</td>\n",
       "    </tr>\n",
       "    <tr>\n",
       "      <th>21</th>\n",
       "      <td>Белгородский губернатор сообщил об обстреле Ше...</td>\n",
       "      <td>Всякое другое</td>\n",
       "      <td>ВЕДОМОСТИ</td>\n",
       "      <td>Thu</td>\n",
       "      <td>29 Dec 2022 17:39:04</td>\n",
       "    </tr>\n",
       "    <tr>\n",
       "      <th>472</th>\n",
       "      <td>В России снимут сериал об уникальной спасатель...</td>\n",
       "      <td>Россия</td>\n",
       "      <td>LENTA.RU</td>\n",
       "      <td>Thu</td>\n",
       "      <td>29 Dec 2022 16:59:00</td>\n",
       "    </tr>\n",
       "  </tbody>\n",
       "</table>\n",
       "</div>"
      ],
      "text/plain": [
       "                                                 title       category  \\\n",
       "33   Путин подписал закон о штрафах до 5 млн рублей...  Всякое другое   \n",
       "52   В Брянской области сообщили о сбитых беспилотн...       Политика   \n",
       "179  Путин поговорил по телефону с загадавшей побыв...  Всякое другое   \n",
       "21   Белгородский губернатор сообщил об обстреле Ше...  Всякое другое   \n",
       "472  В России снимут сериал об уникальной спасатель...         Россия   \n",
       "\n",
       "          site date_of_week         date_and_time  \n",
       "33   ВЕДОМОСТИ          Thu  29 Dec 2022 15:48:42  \n",
       "52   ВЕДОМОСТИ          Thu  29 Dec 2022 12:53:32  \n",
       "179  ВЕДОМОСТИ          Tue  27 Dec 2022 16:14:18  \n",
       "21   ВЕДОМОСТИ          Thu  29 Dec 2022 17:39:04  \n",
       "472   LENTA.RU          Thu  29 Dec 2022 16:59:00  "
      ]
     },
     "execution_count": 26,
     "metadata": {},
     "output_type": "execute_result"
    }
   ],
   "source": [
    "df_news.sample(5)"
   ]
  },
  {
   "cell_type": "code",
   "execution_count": 27,
   "id": "73edc614",
   "metadata": {},
   "outputs": [
    {
     "name": "stderr",
     "output_type": "stream",
     "text": [
      "C:\\Users\\ASUS\\AppData\\Local\\Temp\\ipykernel_21532\\2545184561.py:5: SettingWithCopyWarning: \n",
      "A value is trying to be set on a copy of a slice from a DataFrame\n",
      "\n",
      "See the caveats in the documentation: https://pandas.pydata.org/pandas-docs/stable/user_guide/indexing.html#returning-a-view-versus-a-copy\n",
      "  df_news['category_num'][ind] = i\n"
     ]
    }
   ],
   "source": [
    "df_news['category_num'] = 0\n",
    "for ind, row in enumerate(df_news['category']):\n",
    "    for i, cat in enumerate(df_category['category']):\n",
    "        if row == cat:\n",
    "            df_news['category_num'][ind] = i"
   ]
  },
  {
   "cell_type": "code",
   "execution_count": 28,
   "id": "bb5708ac",
   "metadata": {},
   "outputs": [
    {
     "name": "stderr",
     "output_type": "stream",
     "text": [
      "C:\\Users\\ASUS\\AppData\\Local\\Temp\\ipykernel_21532\\2594518947.py:5: SettingWithCopyWarning: \n",
      "A value is trying to be set on a copy of a slice from a DataFrame\n",
      "\n",
      "See the caveats in the documentation: https://pandas.pydata.org/pandas-docs/stable/user_guide/indexing.html#returning-a-view-versus-a-copy\n",
      "  df_news['site_num'][ind] = i\n"
     ]
    }
   ],
   "source": [
    "df_news['site_num'] = 0\n",
    "for ind, row in enumerate(df_news['site']):\n",
    "    for i, cat in enumerate(df_sites['site']):\n",
    "        if row == cat:\n",
    "            df_news['site_num'][ind] = i"
   ]
  },
  {
   "cell_type": "markdown",
   "id": "b2c7d75a",
   "metadata": {},
   "source": [
    "Все супер! Удалим избыточные столбцы 'site', 'category'."
   ]
  },
  {
   "cell_type": "code",
   "execution_count": 29,
   "id": "28e5d5bf",
   "metadata": {},
   "outputs": [
    {
     "data": {
      "text/html": [
       "<div>\n",
       "<style scoped>\n",
       "    .dataframe tbody tr th:only-of-type {\n",
       "        vertical-align: middle;\n",
       "    }\n",
       "\n",
       "    .dataframe tbody tr th {\n",
       "        vertical-align: top;\n",
       "    }\n",
       "\n",
       "    .dataframe thead th {\n",
       "        text-align: right;\n",
       "    }\n",
       "</style>\n",
       "<table border=\"1\" class=\"dataframe\">\n",
       "  <thead>\n",
       "    <tr style=\"text-align: right;\">\n",
       "      <th></th>\n",
       "      <th>title</th>\n",
       "      <th>category_num</th>\n",
       "      <th>site_num</th>\n",
       "      <th>date_and_time</th>\n",
       "      <th>date_of_week</th>\n",
       "    </tr>\n",
       "  </thead>\n",
       "  <tbody>\n",
       "    <tr>\n",
       "      <th>160</th>\n",
       "      <td>ЦБ предложил ввести потребительские кредиты дл...</td>\n",
       "      <td>3</td>\n",
       "      <td>0</td>\n",
       "      <td>27 Dec 2022 20:36:19</td>\n",
       "      <td>Tue</td>\n",
       "    </tr>\n",
       "    <tr>\n",
       "      <th>293</th>\n",
       "      <td>В РФ вводится термин \"художник-ювелир\" и устан...</td>\n",
       "      <td>1</td>\n",
       "      <td>1</td>\n",
       "      <td>29 Dec 2022 22:52:52</td>\n",
       "      <td>Thu</td>\n",
       "    </tr>\n",
       "    <tr>\n",
       "      <th>288</th>\n",
       "      <td>Школьники из районов Тверской области смогут п...</td>\n",
       "      <td>1</td>\n",
       "      <td>1</td>\n",
       "      <td>29 Dec 2022 23:03:14</td>\n",
       "      <td>Thu</td>\n",
       "    </tr>\n",
       "    <tr>\n",
       "      <th>459</th>\n",
       "      <td>Россия запретит вывоз спирта за пределы страны...</td>\n",
       "      <td>3</td>\n",
       "      <td>2</td>\n",
       "      <td>29 Dec 2022 17:38:00</td>\n",
       "      <td>Thu</td>\n",
       "    </tr>\n",
       "    <tr>\n",
       "      <th>63</th>\n",
       "      <td>Kaspersky сообщил о новой схеме мошенничества ...</td>\n",
       "      <td>0</td>\n",
       "      <td>0</td>\n",
       "      <td>29 Dec 2022 11:15:36</td>\n",
       "      <td>Thu</td>\n",
       "    </tr>\n",
       "    <tr>\n",
       "      <th>32</th>\n",
       "      <td>Минобороны Белоруссии сообщило подробности пад...</td>\n",
       "      <td>2</td>\n",
       "      <td>0</td>\n",
       "      <td>29 Dec 2022 15:55:23</td>\n",
       "      <td>Thu</td>\n",
       "    </tr>\n",
       "    <tr>\n",
       "      <th>93</th>\n",
       "      <td>США и ЕС призвали к срочной деэскалации в Косове</td>\n",
       "      <td>2</td>\n",
       "      <td>0</td>\n",
       "      <td>28 Dec 2022 19:07:22</td>\n",
       "      <td>Wed</td>\n",
       "    </tr>\n",
       "  </tbody>\n",
       "</table>\n",
       "</div>"
      ],
      "text/plain": [
       "                                                 title  category_num  \\\n",
       "160  ЦБ предложил ввести потребительские кредиты дл...             3   \n",
       "293  В РФ вводится термин \"художник-ювелир\" и устан...             1   \n",
       "288  Школьники из районов Тверской области смогут п...             1   \n",
       "459  Россия запретит вывоз спирта за пределы страны...             3   \n",
       "63   Kaspersky сообщил о новой схеме мошенничества ...             0   \n",
       "32   Минобороны Белоруссии сообщило подробности пад...             2   \n",
       "93    США и ЕС призвали к срочной деэскалации в Косове             2   \n",
       "\n",
       "     site_num         date_and_time date_of_week  \n",
       "160         0  27 Dec 2022 20:36:19          Tue  \n",
       "293         1  29 Dec 2022 22:52:52          Thu  \n",
       "288         1  29 Dec 2022 23:03:14          Thu  \n",
       "459         2  29 Dec 2022 17:38:00          Thu  \n",
       "63          0  29 Dec 2022 11:15:36          Thu  \n",
       "32          0  29 Dec 2022 15:55:23          Thu  \n",
       "93          0  28 Dec 2022 19:07:22          Wed  "
      ]
     },
     "execution_count": 29,
     "metadata": {},
     "output_type": "execute_result"
    }
   ],
   "source": [
    "df_news = df_news.drop(columns = ['site', 'category'])\n",
    "neworder = ['title', 'category_num', 'site_num', 'date_and_time', 'date_of_week']  \n",
    "df_news = df_news.reindex(columns=neworder)\n",
    "df_news.sample(7)"
   ]
  },
  {
   "cell_type": "markdown",
   "id": "da1bf2f3",
   "metadata": {},
   "source": [
    "Кажется, что для наших витрин сами названия новостей не нужны. Тем более у нас есть сохраненная резервная копи данных. \n",
    "Удалим названия новостей. "
   ]
  },
  {
   "cell_type": "code",
   "execution_count": 30,
   "id": "d568f8ed",
   "metadata": {},
   "outputs": [
    {
     "data": {
      "text/html": [
       "<div>\n",
       "<style scoped>\n",
       "    .dataframe tbody tr th:only-of-type {\n",
       "        vertical-align: middle;\n",
       "    }\n",
       "\n",
       "    .dataframe tbody tr th {\n",
       "        vertical-align: top;\n",
       "    }\n",
       "\n",
       "    .dataframe thead th {\n",
       "        text-align: right;\n",
       "    }\n",
       "</style>\n",
       "<table border=\"1\" class=\"dataframe\">\n",
       "  <thead>\n",
       "    <tr style=\"text-align: right;\">\n",
       "      <th></th>\n",
       "      <th>category_num</th>\n",
       "      <th>site_num</th>\n",
       "      <th>date_and_time</th>\n",
       "      <th>date_of_week</th>\n",
       "    </tr>\n",
       "  </thead>\n",
       "  <tbody>\n",
       "    <tr>\n",
       "      <th>132</th>\n",
       "      <td>3</td>\n",
       "      <td>0</td>\n",
       "      <td>28 Dec 2022 13:30:36</td>\n",
       "      <td>Wed</td>\n",
       "    </tr>\n",
       "    <tr>\n",
       "      <th>232</th>\n",
       "      <td>3</td>\n",
       "      <td>1</td>\n",
       "      <td>30 Dec 2022 02:45:57</td>\n",
       "      <td>Fri</td>\n",
       "    </tr>\n",
       "    <tr>\n",
       "      <th>353</th>\n",
       "      <td>10</td>\n",
       "      <td>2</td>\n",
       "      <td>29 Dec 2022 23:07:39</td>\n",
       "      <td>Thu</td>\n",
       "    </tr>\n",
       "    <tr>\n",
       "      <th>425</th>\n",
       "      <td>9</td>\n",
       "      <td>2</td>\n",
       "      <td>29 Dec 2022 18:43:00</td>\n",
       "      <td>Thu</td>\n",
       "    </tr>\n",
       "    <tr>\n",
       "      <th>473</th>\n",
       "      <td>6</td>\n",
       "      <td>2</td>\n",
       "      <td>29 Dec 2022 16:56:00</td>\n",
       "      <td>Thu</td>\n",
       "    </tr>\n",
       "    <tr>\n",
       "      <th>184</th>\n",
       "      <td>3</td>\n",
       "      <td>0</td>\n",
       "      <td>27 Dec 2022 15:24:37</td>\n",
       "      <td>Tue</td>\n",
       "    </tr>\n",
       "    <tr>\n",
       "      <th>286</th>\n",
       "      <td>5</td>\n",
       "      <td>1</td>\n",
       "      <td>29 Dec 2022 23:12:02</td>\n",
       "      <td>Thu</td>\n",
       "    </tr>\n",
       "  </tbody>\n",
       "</table>\n",
       "</div>"
      ],
      "text/plain": [
       "     category_num  site_num         date_and_time date_of_week\n",
       "132             3         0  28 Dec 2022 13:30:36          Wed\n",
       "232             3         1  30 Dec 2022 02:45:57          Fri\n",
       "353            10         2  29 Dec 2022 23:07:39          Thu\n",
       "425             9         2  29 Dec 2022 18:43:00          Thu\n",
       "473             6         2  29 Dec 2022 16:56:00          Thu\n",
       "184             3         0  27 Dec 2022 15:24:37          Tue\n",
       "286             5         1  29 Dec 2022 23:12:02          Thu"
      ]
     },
     "execution_count": 30,
     "metadata": {},
     "output_type": "execute_result"
    }
   ],
   "source": [
    "df_news = df_news.drop(columns = ['title'])\n",
    "df_news.sample(7)"
   ]
  },
  {
   "cell_type": "markdown",
   "id": "6db58fc5",
   "metadata": {},
   "source": [
    "### Вывод\n",
    "\n",
    "Теперь у нас есть три прекрасные нормализованные таблицы (пока еще DataFrame) для загрузки их в PostgreSQL."
   ]
  },
  {
   "cell_type": "code",
   "execution_count": 31,
   "id": "6b3ff050",
   "metadata": {},
   "outputs": [
    {
     "data": {
      "text/html": [
       "<div>\n",
       "<style scoped>\n",
       "    .dataframe tbody tr th:only-of-type {\n",
       "        vertical-align: middle;\n",
       "    }\n",
       "\n",
       "    .dataframe tbody tr th {\n",
       "        vertical-align: top;\n",
       "    }\n",
       "\n",
       "    .dataframe thead th {\n",
       "        text-align: right;\n",
       "    }\n",
       "</style>\n",
       "<table border=\"1\" class=\"dataframe\">\n",
       "  <thead>\n",
       "    <tr style=\"text-align: right;\">\n",
       "      <th></th>\n",
       "      <th>category_num</th>\n",
       "      <th>site_num</th>\n",
       "      <th>date_and_time</th>\n",
       "      <th>date_of_week</th>\n",
       "    </tr>\n",
       "  </thead>\n",
       "  <tbody>\n",
       "    <tr>\n",
       "      <th>84</th>\n",
       "      <td>1</td>\n",
       "      <td>0</td>\n",
       "      <td>28 Dec 2022 21:20:14</td>\n",
       "      <td>Wed</td>\n",
       "    </tr>\n",
       "    <tr>\n",
       "      <th>118</th>\n",
       "      <td>3</td>\n",
       "      <td>0</td>\n",
       "      <td>28 Dec 2022 15:22:16</td>\n",
       "      <td>Wed</td>\n",
       "    </tr>\n",
       "    <tr>\n",
       "      <th>217</th>\n",
       "      <td>1</td>\n",
       "      <td>1</td>\n",
       "      <td>30 Dec 2022 05:17:28</td>\n",
       "      <td>Fri</td>\n",
       "    </tr>\n",
       "    <tr>\n",
       "      <th>120</th>\n",
       "      <td>2</td>\n",
       "      <td>0</td>\n",
       "      <td>28 Dec 2022 15:03:48</td>\n",
       "      <td>Wed</td>\n",
       "    </tr>\n",
       "    <tr>\n",
       "      <th>319</th>\n",
       "      <td>6</td>\n",
       "      <td>2</td>\n",
       "      <td>30 Dec 2022 04:25:35</td>\n",
       "      <td>Fri</td>\n",
       "    </tr>\n",
       "    <tr>\n",
       "      <th>310</th>\n",
       "      <td>5</td>\n",
       "      <td>2</td>\n",
       "      <td>30 Dec 2022 05:39:00</td>\n",
       "      <td>Fri</td>\n",
       "    </tr>\n",
       "    <tr>\n",
       "      <th>303</th>\n",
       "      <td>4</td>\n",
       "      <td>2</td>\n",
       "      <td>30 Dec 2022 06:26:00</td>\n",
       "      <td>Fri</td>\n",
       "    </tr>\n",
       "  </tbody>\n",
       "</table>\n",
       "</div>"
      ],
      "text/plain": [
       "     category_num  site_num         date_and_time date_of_week\n",
       "84              1         0  28 Dec 2022 21:20:14          Wed\n",
       "118             3         0  28 Dec 2022 15:22:16          Wed\n",
       "217             1         1  30 Dec 2022 05:17:28          Fri\n",
       "120             2         0  28 Dec 2022 15:03:48          Wed\n",
       "319             6         2  30 Dec 2022 04:25:35          Fri\n",
       "310             5         2  30 Dec 2022 05:39:00          Fri\n",
       "303             4         2  30 Dec 2022 06:26:00          Fri"
      ]
     },
     "execution_count": 31,
     "metadata": {},
     "output_type": "execute_result"
    }
   ],
   "source": [
    "df_news.sample(7)"
   ]
  },
  {
   "cell_type": "markdown",
   "id": "65890f3e",
   "metadata": {},
   "source": [
    "## Заполнение таблиц БД PostgreSQL"
   ]
  },
  {
   "cell_type": "markdown",
   "id": "53652cac",
   "metadata": {},
   "source": [
    "Подключение к БД PostgreSQL"
   ]
  },
  {
   "cell_type": "code",
   "execution_count": 32,
   "id": "d050874c",
   "metadata": {},
   "outputs": [],
   "source": [
    "import psycopg2\n",
    "\n",
    "conn = psycopg2.connect(\n",
    "    database=\"employees\",\n",
    "    user=\"pdn\",\n",
    "    password=\"admin\",\n",
    "    host=\"host.docker.internal\",\n",
    "    port=\"25432\"\n",
    ")\n",
    "\n",
    "cur = conn.cursor()"
   ]
  },
  {
   "cell_type": "code",
   "execution_count": 35,
   "id": "3307a31a",
   "metadata": {},
   "outputs": [],
   "source": [
    "create_posts_table = \"\"\"\n",
    "CREATE TABLE IF NOT EXISTS CATEGORIES_10 (\n",
    "    ID INT PRIMARY KEY,\n",
    "    category CHARACTER VARYING(100) NOT NULL \n",
    ")\n",
    "\"\"\"\n",
    "\n",
    "conn.autocommit = True\n",
    "cur.execute(create_posts_table)"
   ]
  },
  {
   "cell_type": "code",
   "execution_count": 36,
   "id": "e2533c0c",
   "metadata": {},
   "outputs": [],
   "source": [
    "create_posts_table = \"\"\"\n",
    "CREATE TABLE IF NOT EXISTS SITES_10 (\n",
    "    ID INT PRIMARY KEY,\n",
    "    SITE CHARACTER VARYING(80) NOT NULL \n",
    ")\n",
    "\"\"\"\n",
    "\n",
    "conn.autocommit = True\n",
    "cur.execute(create_posts_table)"
   ]
  },
  {
   "cell_type": "code",
   "execution_count": 37,
   "id": "a03bbdb4",
   "metadata": {},
   "outputs": [],
   "source": [
    "create_posts_table = \"\"\"\n",
    "CREATE TABLE IF NOT EXISTS SS_NEWS_10 (\n",
    "    ID INT GENERATED ALWAYS AS IDENTITY PRIMARY KEY,\n",
    "    category_num INTEGER NOT NULL, \n",
    "    site_num INTEGER NOT NULL,\n",
    "    date_and_time TIMESTAMP NOT NULL, \n",
    "    date_of_week CHARACTER VARYING(30) NOT NULL,\n",
    "    CONSTRAINT fk_category_num\n",
    "      FOREIGN KEY(category_num)\n",
    "          REFERENCES CATEGORIES_10(ID)\n",
    "          ON DELETE CASCADE,\n",
    "    CONSTRAINT fk_site_num\n",
    "      FOREIGN KEY(site_num)\n",
    "          REFERENCES SITES_10(ID)\n",
    "          ON DELETE CASCADE  \n",
    "    )\n",
    "\"\"\"\n",
    "\n",
    "conn.autocommit = True\n",
    "cur.execute(create_posts_table)"
   ]
  },
  {
   "cell_type": "code",
   "execution_count": 38,
   "id": "37fa89e2",
   "metadata": {},
   "outputs": [
    {
     "data": {
      "text/plain": [
       "[(0, 'Наука и техника'),\n",
       " (1, 'Всякое другое'),\n",
       " (2, 'Политика'),\n",
       " (3, 'Экономика и бизнес'),\n",
       " (4, 'Интернет и СМИ'),\n",
       " (5, 'Мир'),\n",
       " (6, 'Россия'),\n",
       " (7, 'Происшествия'),\n",
       " (8, 'Армия и ОПК'),\n",
       " (9, 'Культура'),\n",
       " (10, 'Спорт'),\n",
       " (11, 'Здоровье'),\n",
       " (12, 'Путешествия')]"
      ]
     },
     "execution_count": 38,
     "metadata": {},
     "output_type": "execute_result"
    }
   ],
   "source": [
    "df_shema_category = list(df_category.itertuples(index=False, name=None))\n",
    "df_shema_category"
   ]
  },
  {
   "cell_type": "code",
   "execution_count": 39,
   "id": "e6d784b5",
   "metadata": {},
   "outputs": [
    {
     "data": {
      "text/plain": [
       "[(0, 'ВЕДОМОСТИ'), (1, 'TASS'), (2, 'LENTA.RU'), (3, 'Фонтонка.ру')]"
      ]
     },
     "execution_count": 39,
     "metadata": {},
     "output_type": "execute_result"
    }
   ],
   "source": [
    "df_shema_site = list(df_sites.itertuples(index=False, name=None))\n",
    "df_shema_site"
   ]
  },
  {
   "cell_type": "code",
   "execution_count": 40,
   "id": "3fdabe90",
   "metadata": {},
   "outputs": [
    {
     "data": {
      "text/plain": [
       "[(0, 0, '29 Dec 2022 22:41:42', 'Thu'),\n",
       " (1, 0, '29 Dec 2022 22:19:00', 'Thu'),\n",
       " (1, 0, '29 Dec 2022 21:57:07', 'Thu'),\n",
       " (2, 0, '29 Dec 2022 21:32:44', 'Thu'),\n",
       " (3, 0, '29 Dec 2022 21:12:16', 'Thu'),\n",
       " (2, 0, '29 Dec 2022 20:52:17', 'Thu'),\n",
       " (3, 0, '29 Dec 2022 20:44:34', 'Thu'),\n",
       " (2, 0, '29 Dec 2022 20:22:18', 'Thu'),\n",
       " (1, 0, '29 Dec 2022 19:58:09', 'Thu'),\n",
       " (2, 0, '29 Dec 2022 19:34:50', 'Thu')]"
      ]
     },
     "execution_count": 40,
     "metadata": {},
     "output_type": "execute_result"
    }
   ],
   "source": [
    "df_shema_news= list(df_news.itertuples(index=False, name=None))\n",
    "df_shema_news[:10]"
   ]
  },
  {
   "cell_type": "code",
   "execution_count": 41,
   "id": "375037df",
   "metadata": {},
   "outputs": [],
   "source": [
    "data_category = \", \".join([\"%s\"] * len(df_category))\n",
    "\n",
    "insert_query = (\n",
    "    f\"INSERT INTO CATEGORIES_10 (ID, category) VALUES {data_category}\"\n",
    ")\n",
    "\n",
    "conn.autocommit = True\n",
    "cur = conn.cursor()\n",
    "cur.execute(insert_query, df_shema_category)"
   ]
  },
  {
   "cell_type": "code",
   "execution_count": 42,
   "id": "ff23c3c2",
   "metadata": {},
   "outputs": [],
   "source": [
    "data_site = \", \".join([\"%s\"] * len(df_sites))\n",
    "\n",
    "insert_query = (\n",
    "    f\"INSERT INTO SITES_10 (ID, site) VALUES {data_site}\"\n",
    ")\n",
    "\n",
    "conn.autocommit = True\n",
    "cur = conn.cursor()\n",
    "cur.execute(insert_query, df_shema_site)"
   ]
  },
  {
   "cell_type": "code",
   "execution_count": 43,
   "id": "cd352d5e",
   "metadata": {},
   "outputs": [],
   "source": [
    "data_news = \", \".join([\"%s\"] * len(df_news))\n",
    "\n",
    "insert_query = (\n",
    "    f\"INSERT INTO SS_NEWS_10 (category_num, site_num, date_and_time, date_of_week) VALUES {data_news}\"\n",
    ")\n",
    "\n",
    "conn.autocommit = True\n",
    "cur = conn.cursor()\n",
    "cur.execute(insert_query, df_shema_news)"
   ]
  },
  {
   "cell_type": "code",
   "execution_count": null,
   "id": "890caed7",
   "metadata": {},
   "outputs": [],
   "source": []
  },
  {
   "cell_type": "code",
   "execution_count": 44,
   "id": "82c4e8ed",
   "metadata": {},
   "outputs": [
    {
     "name": "stdout",
     "output_type": "stream",
     "text": [
      "(6, 2, 0, datetime.datetime(2022, 12, 29, 20, 52, 17), 'Thu')\n",
      "(7, 3, 0, datetime.datetime(2022, 12, 29, 20, 44, 34), 'Thu')\n",
      "(8, 2, 0, datetime.datetime(2022, 12, 29, 20, 22, 18), 'Thu')\n",
      "(9, 1, 0, datetime.datetime(2022, 12, 29, 19, 58, 9), 'Thu')\n",
      "(10, 2, 0, datetime.datetime(2022, 12, 29, 19, 34, 50), 'Thu')\n"
     ]
    }
   ],
   "source": [
    "#  Посмотрим на данные в таблице NEWS\n",
    "cur.execute(\"SELECT * FROM SS_NEWS_10 LIMIT 10 \")\n",
    "dirs = cur.fetchall()\n",
    "for row in dirs[-5:]:\n",
    "    \n",
    "    print(row)"
   ]
  },
  {
   "cell_type": "code",
   "execution_count": null,
   "id": "bbd42e95",
   "metadata": {},
   "outputs": [],
   "source": []
  },
  {
   "cell_type": "code",
   "execution_count": null,
   "id": "3ad81f61",
   "metadata": {},
   "outputs": [],
   "source": []
  },
  {
   "cell_type": "code",
   "execution_count": null,
   "id": "bc69c48b",
   "metadata": {},
   "outputs": [],
   "source": []
  },
  {
   "cell_type": "code",
   "execution_count": null,
   "id": "2c8c8dac",
   "metadata": {},
   "outputs": [],
   "source": []
  },
  {
   "cell_type": "markdown",
   "id": "0c7f77ab",
   "metadata": {},
   "source": [
    "# Инкрементальный режим"
   ]
  },
  {
   "cell_type": "code",
   "execution_count": 45,
   "id": "f9836e5a",
   "metadata": {},
   "outputs": [
    {
     "data": {
      "text/html": [
       "<div>\n",
       "<style scoped>\n",
       "    .dataframe tbody tr th:only-of-type {\n",
       "        vertical-align: middle;\n",
       "    }\n",
       "\n",
       "    .dataframe tbody tr th {\n",
       "        vertical-align: top;\n",
       "    }\n",
       "\n",
       "    .dataframe thead th {\n",
       "        text-align: right;\n",
       "    }\n",
       "</style>\n",
       "<table border=\"1\" class=\"dataframe\">\n",
       "  <thead>\n",
       "    <tr style=\"text-align: right;\">\n",
       "      <th></th>\n",
       "      <th>Фонтонка.ру</th>\n",
       "      <th>LENTA.RU</th>\n",
       "      <th>TASS</th>\n",
       "      <th>ВЕДОМОСТИ</th>\n",
       "    </tr>\n",
       "  </thead>\n",
       "  <tbody>\n",
       "    <tr>\n",
       "      <th>0</th>\n",
       "      <td>https://www.fontanka.ru/fontanka.rss</td>\n",
       "      <td>https://lenta.ru/rss</td>\n",
       "      <td>https://tass.ru/rss/v2.xml</td>\n",
       "      <td>https://www.vedomosti.ru/rss/news</td>\n",
       "    </tr>\n",
       "    <tr>\n",
       "      <th>1</th>\n",
       "      <td>Мотя, Добрыня и канадские пумы сыграют в сказк...</td>\n",
       "      <td>Историк назвал основную причина распада СССР</td>\n",
       "      <td>Посольство РФ сообщило об отсутствии данных о ...</td>\n",
       "      <td>Путин подписал закон о создании единой базы ге...</td>\n",
       "    </tr>\n",
       "  </tbody>\n",
       "</table>\n",
       "</div>"
      ],
      "text/plain": [
       "                                         Фонтонка.ру  \\\n",
       "0               https://www.fontanka.ru/fontanka.rss   \n",
       "1  Мотя, Добрыня и канадские пумы сыграют в сказк...   \n",
       "\n",
       "                                       LENTA.RU  \\\n",
       "0                          https://lenta.ru/rss   \n",
       "1  Историк назвал основную причина распада СССР   \n",
       "\n",
       "                                                TASS  \\\n",
       "0                         https://tass.ru/rss/v2.xml   \n",
       "1  Посольство РФ сообщило об отсутствии данных о ...   \n",
       "\n",
       "                                           ВЕДОМОСТИ  \n",
       "0                  https://www.vedomosti.ru/rss/news  \n",
       "1  Путин подписал закон о создании единой базы ге...  "
      ]
     },
     "execution_count": 45,
     "metadata": {},
     "output_type": "execute_result"
    }
   ],
   "source": [
    "site = pd.read_json(r\"C:\\Users\\ASUS\\OneDrive\\Рабочий стол\\AI\\DE_1t\\docker_3.1\\sample project\\Sample project\\dags\\scripts/sites.json\")\n",
    "site "
   ]
  },
  {
   "cell_type": "code",
   "execution_count": 46,
   "id": "98e262cd",
   "metadata": {},
   "outputs": [],
   "source": [
    "sites = {\"data\" : [] \n",
    "               }\n",
    "for ind, row in enumerate(site):\n",
    "    sites['data'].append({row: [site[row][0], site[row][1]]})\n",
    "sites = dict(list(sites['data'][0].items()) + list(sites['data'][1].items())+list(sites['data'][2].items()) + list(sites['data'][3].items()))    "
   ]
  },
  {
   "cell_type": "code",
   "execution_count": null,
   "id": "bc6a2dbb",
   "metadata": {},
   "outputs": [],
   "source": []
  },
  {
   "cell_type": "code",
   "execution_count": 47,
   "id": "9ae74638",
   "metadata": {},
   "outputs": [
    {
     "data": {
      "text/plain": [
       "{'Фонтонка.ру': ['https://www.fontanka.ru/fontanka.rss',\n",
       "  'Мотя, Добрыня и канадские пумы сыграют в сказке Пушкина на цирковой лад'],\n",
       " 'LENTA.RU': ['https://lenta.ru/rss',\n",
       "  'Историк назвал основную причина распада СССР'],\n",
       " 'TASS': ['https://tass.ru/rss/v2.xml',\n",
       "  'Посольство РФ сообщило об отсутствии данных о пострадавших при пожаре в Камбодже россиянах'],\n",
       " 'ВЕДОМОСТИ': ['https://www.vedomosti.ru/rss/news',\n",
       "  'Путин подписал закон о создании единой базы генетической информации']}"
      ]
     },
     "execution_count": 47,
     "metadata": {},
     "output_type": "execute_result"
    }
   ],
   "source": [
    "sites"
   ]
  },
  {
   "cell_type": "code",
   "execution_count": 49,
   "id": "b3315ce6",
   "metadata": {},
   "outputs": [],
   "source": [
    "#sites = sites.to_dict('list')\n",
    "#sites "
   ]
  },
  {
   "cell_type": "code",
   "execution_count": 50,
   "id": "3dcfeb91",
   "metadata": {},
   "outputs": [],
   "source": [
    "# создадим пустые DataFrames, куда будем записывать данные\n",
    "data = {\"data\" : []  }\n",
    "data_dirty = {\"data\" : []  }\n",
    "#df = pd.DataFrame(data['data'])\n",
    "df_dirty = pd.DataFrame(data_dirty['data'])"
   ]
  },
  {
   "cell_type": "code",
   "execution_count": 51,
   "id": "6f6c4510",
   "metadata": {},
   "outputs": [
    {
     "name": "stderr",
     "output_type": "stream",
     "text": [
      "C:\\Users\\ASUS\\anaconda3\\lib\\site-packages\\bs4\\builder\\__init__.py:545: XMLParsedAsHTMLWarning: It looks like you're parsing an XML document using an HTML parser. If this really is an HTML document (maybe it's XHTML?), you can ignore or filter this warning. If it's XML, you should know that using an XML parser will be more reliable. To parse this document as XML, make sure you have the lxml package installed, and pass the keyword argument `features=\"xml\"` into the BeautifulSoup constructor.\n",
      "  warnings.warn(\n"
     ]
    },
    {
     "data": {
      "text/html": [
       "<div>\n",
       "<style scoped>\n",
       "    .dataframe tbody tr th:only-of-type {\n",
       "        vertical-align: middle;\n",
       "    }\n",
       "\n",
       "    .dataframe tbody tr th {\n",
       "        vertical-align: top;\n",
       "    }\n",
       "\n",
       "    .dataframe thead th {\n",
       "        text-align: right;\n",
       "    }\n",
       "</style>\n",
       "<table border=\"1\" class=\"dataframe\">\n",
       "  <thead>\n",
       "    <tr style=\"text-align: right;\">\n",
       "      <th></th>\n",
       "      <th>title</th>\n",
       "      <th>category</th>\n",
       "      <th>pubdate</th>\n",
       "      <th>site</th>\n",
       "    </tr>\n",
       "  </thead>\n",
       "  <tbody>\n",
       "    <tr>\n",
       "      <th>228</th>\n",
       "      <td>В Тамбовской области объявили экстренное преду...</td>\n",
       "      <td>Всякое другое</td>\n",
       "      <td>Fri, 30 Dec 2022 03:07:00 +0300</td>\n",
       "      <td>TASS</td>\n",
       "    </tr>\n",
       "    <tr>\n",
       "      <th>193</th>\n",
       "      <td>Суд приговорил военного к году и восьми месяца...</td>\n",
       "      <td>Всякое другое</td>\n",
       "      <td>Tue, 27 Dec 2022 14:14:21 +0300</td>\n",
       "      <td>ВЕДОМОСТИ</td>\n",
       "    </tr>\n",
       "    <tr>\n",
       "      <th>164</th>\n",
       "      <td>Суд на Украине признал конституционным закон о...</td>\n",
       "      <td>Всякое другое</td>\n",
       "      <td>Tue, 27 Dec 2022 18:46:23 +0300</td>\n",
       "      <td>ВЕДОМОСТИ</td>\n",
       "    </tr>\n",
       "    <tr>\n",
       "      <th>79</th>\n",
       "      <td>Правительство обновило состав комиссии по разв...</td>\n",
       "      <td>Политика</td>\n",
       "      <td>Wed, 28 Dec 2022 22:48:40 +0300</td>\n",
       "      <td>ВЕДОМОСТИ</td>\n",
       "    </tr>\n",
       "    <tr>\n",
       "      <th>160</th>\n",
       "      <td>ЦБ предложил ввести потребительские кредиты дл...</td>\n",
       "      <td>Экономика и бизнес</td>\n",
       "      <td>Tue, 27 Dec 2022 20:36:19 +0300</td>\n",
       "      <td>ВЕДОМОСТИ</td>\n",
       "    </tr>\n",
       "    <tr>\n",
       "      <th>31</th>\n",
       "      <td>Вучич отменил режим повышенной боевой готовнос...</td>\n",
       "      <td>Политика</td>\n",
       "      <td>Thu, 29 Dec 2022 15:56:35 +0300</td>\n",
       "      <td>ВЕДОМОСТИ</td>\n",
       "    </tr>\n",
       "    <tr>\n",
       "      <th>357</th>\n",
       "      <td>Молдавия заявила о прекращении отношений с рук...</td>\n",
       "      <td>Мир</td>\n",
       "      <td>Thu, 29 Dec 2022 22:33:00 +0300</td>\n",
       "      <td>LENTA.RU</td>\n",
       "    </tr>\n",
       "    <tr>\n",
       "      <th>93</th>\n",
       "      <td>США и ЕС призвали к срочной деэскалации в Косове</td>\n",
       "      <td>Политика</td>\n",
       "      <td>Wed, 28 Dec 2022 19:07:22 +0300</td>\n",
       "      <td>ВЕДОМОСТИ</td>\n",
       "    </tr>\n",
       "  </tbody>\n",
       "</table>\n",
       "</div>"
      ],
      "text/plain": [
       "                                                 title            category  \\\n",
       "228  В Тамбовской области объявили экстренное преду...       Всякое другое   \n",
       "193  Суд приговорил военного к году и восьми месяца...       Всякое другое   \n",
       "164  Суд на Украине признал конституционным закон о...       Всякое другое   \n",
       "79   Правительство обновило состав комиссии по разв...            Политика   \n",
       "160  ЦБ предложил ввести потребительские кредиты дл...  Экономика и бизнес   \n",
       "31   Вучич отменил режим повышенной боевой готовнос...            Политика   \n",
       "357  Молдавия заявила о прекращении отношений с рук...                 Мир   \n",
       "93    США и ЕС призвали к срочной деэскалации в Косове            Политика   \n",
       "\n",
       "                             pubdate       site  \n",
       "228  Fri, 30 Dec 2022 03:07:00 +0300       TASS  \n",
       "193  Tue, 27 Dec 2022 14:14:21 +0300  ВЕДОМОСТИ  \n",
       "164  Tue, 27 Dec 2022 18:46:23 +0300  ВЕДОМОСТИ  \n",
       "79   Wed, 28 Dec 2022 22:48:40 +0300  ВЕДОМОСТИ  \n",
       "160  Tue, 27 Dec 2022 20:36:19 +0300  ВЕДОМОСТИ  \n",
       "31   Thu, 29 Dec 2022 15:56:35 +0300  ВЕДОМОСТИ  \n",
       "357  Thu, 29 Dec 2022 22:33:00 +0300   LENTA.RU  \n",
       "93   Wed, 28 Dec 2022 19:07:22 +0300  ВЕДОМОСТИ  "
      ]
     },
     "execution_count": 51,
     "metadata": {},
     "output_type": "execute_result"
    }
   ],
   "source": [
    "df, df_dirty  = parsing(df, df_dirty) \n",
    "df.sample(8)"
   ]
  },
  {
   "cell_type": "code",
   "execution_count": 52,
   "id": "1924aff7",
   "metadata": {},
   "outputs": [
    {
     "name": "stdout",
     "output_type": "stream",
     "text": [
      "<class 'pandas.core.frame.DataFrame'>\n",
      "Int64Index: 529 entries, 0 to 528\n",
      "Data columns (total 4 columns):\n",
      " #   Column    Non-Null Count  Dtype \n",
      "---  ------    --------------  ----- \n",
      " 0   title     529 non-null    object\n",
      " 1   category  529 non-null    object\n",
      " 2   pubdate   529 non-null    object\n",
      " 3   site      529 non-null    object\n",
      "dtypes: object(4)\n",
      "memory usage: 36.8+ KB\n"
     ]
    }
   ],
   "source": [
    "df.info()"
   ]
  },
  {
   "cell_type": "code",
   "execution_count": 53,
   "id": "f75e7a43",
   "metadata": {},
   "outputs": [
    {
     "name": "stdout",
     "output_type": "stream",
     "text": [
      "<class 'pandas.core.frame.DataFrame'>\n",
      "Index: 0 entries\n",
      "Empty DataFrame"
     ]
    }
   ],
   "source": [
    "df_dirty.info()"
   ]
  },
  {
   "cell_type": "code",
   "execution_count": 54,
   "id": "e5426ecb",
   "metadata": {},
   "outputs": [
    {
     "data": {
      "text/html": [
       "<div>\n",
       "<style scoped>\n",
       "    .dataframe tbody tr th:only-of-type {\n",
       "        vertical-align: middle;\n",
       "    }\n",
       "\n",
       "    .dataframe tbody tr th {\n",
       "        vertical-align: top;\n",
       "    }\n",
       "\n",
       "    .dataframe thead th {\n",
       "        text-align: right;\n",
       "    }\n",
       "</style>\n",
       "<table border=\"1\" class=\"dataframe\">\n",
       "  <thead>\n",
       "    <tr style=\"text-align: right;\">\n",
       "      <th></th>\n",
       "      <th>title</th>\n",
       "      <th>category</th>\n",
       "      <th>pubdate</th>\n",
       "      <th>site</th>\n",
       "    </tr>\n",
       "  </thead>\n",
       "  <tbody>\n",
       "    <tr>\n",
       "      <th>0</th>\n",
       "      <td>Путин подписал закон о создании единой базы ге...</td>\n",
       "      <td>Наука и техника</td>\n",
       "      <td>Thu, 29 Dec 2022 22:41:42 +0300</td>\n",
       "      <td>ВЕДОМОСТИ</td>\n",
       "    </tr>\n",
       "    <tr>\n",
       "      <th>1</th>\n",
       "      <td>Умер трехкратный чемпион мира по футболу Пеле</td>\n",
       "      <td>Всякое другое</td>\n",
       "      <td>Thu, 29 Dec 2022 22:19:00 +0300</td>\n",
       "      <td>ВЕДОМОСТИ</td>\n",
       "    </tr>\n",
       "    <tr>\n",
       "      <th>2</th>\n",
       "      <td>Путин утвердил приостановку взыскания долгов с...</td>\n",
       "      <td>Всякое другое</td>\n",
       "      <td>Thu, 29 Dec 2022 21:57:07 +0300</td>\n",
       "      <td>ВЕДОМОСТИ</td>\n",
       "    </tr>\n",
       "    <tr>\n",
       "      <th>3</th>\n",
       "      <td>Киев заявил о готовности расследовать инцидент...</td>\n",
       "      <td>Политика</td>\n",
       "      <td>Thu, 29 Dec 2022 21:32:44 +0300</td>\n",
       "      <td>ВЕДОМОСТИ</td>\n",
       "    </tr>\n",
       "    <tr>\n",
       "      <th>4</th>\n",
       "      <td>Путин подписал закон о предупреждении рисков п...</td>\n",
       "      <td>Экономика и бизнес</td>\n",
       "      <td>Thu, 29 Dec 2022 21:12:16 +0300</td>\n",
       "      <td>ВЕДОМОСТИ</td>\n",
       "    </tr>\n",
       "  </tbody>\n",
       "</table>\n",
       "</div>"
      ],
      "text/plain": [
       "                                               title            category  \\\n",
       "0  Путин подписал закон о создании единой базы ге...     Наука и техника   \n",
       "1      Умер трехкратный чемпион мира по футболу Пеле       Всякое другое   \n",
       "2  Путин утвердил приостановку взыскания долгов с...       Всякое другое   \n",
       "3  Киев заявил о готовности расследовать инцидент...            Политика   \n",
       "4  Путин подписал закон о предупреждении рисков п...  Экономика и бизнес   \n",
       "\n",
       "                           pubdate       site  \n",
       "0  Thu, 29 Dec 2022 22:41:42 +0300  ВЕДОМОСТИ  \n",
       "1  Thu, 29 Dec 2022 22:19:00 +0300  ВЕДОМОСТИ  \n",
       "2  Thu, 29 Dec 2022 21:57:07 +0300  ВЕДОМОСТИ  \n",
       "3  Thu, 29 Dec 2022 21:32:44 +0300  ВЕДОМОСТИ  \n",
       "4  Thu, 29 Dec 2022 21:12:16 +0300  ВЕДОМОСТИ  "
      ]
     },
     "execution_count": 54,
     "metadata": {},
     "output_type": "execute_result"
    }
   ],
   "source": [
    "df.head(5)"
   ]
  },
  {
   "cell_type": "code",
   "execution_count": 55,
   "id": "614491fc",
   "metadata": {},
   "outputs": [
    {
     "name": "stdout",
     "output_type": "stream",
     "text": [
      "<class 'pandas.core.frame.DataFrame'>\n",
      "Int64Index: 529 entries, 0 to 528\n",
      "Data columns (total 4 columns):\n",
      " #   Column    Non-Null Count  Dtype \n",
      "---  ------    --------------  ----- \n",
      " 0   title     529 non-null    object\n",
      " 1   category  529 non-null    object\n",
      " 2   pubdate   529 non-null    object\n",
      " 3   site      529 non-null    object\n",
      "dtypes: object(4)\n",
      "memory usage: 20.7+ KB\n"
     ]
    }
   ],
   "source": [
    "df = df.drop_duplicates()\n",
    "df.info()"
   ]
  },
  {
   "cell_type": "code",
   "execution_count": 56,
   "id": "b171a91a",
   "metadata": {},
   "outputs": [],
   "source": [
    "# Создадим копию данных для возможного отката назад и сохраним их\n",
    "df_init = df.copy(deep=True)\n",
    "\n",
    "with open(\"df_init\", \"w\", encoding=\"utf-8\") as file:\n",
    "                  json.dump(df_init.to_dict(), file, ensure_ascii = False)\n",
    "        \n",
    "with open(\"sites.json\", \"w\", encoding=\"utf-8\") as file:\n",
    "                  json.dump(sites, file, ensure_ascii = False)           "
   ]
  },
  {
   "cell_type": "markdown",
   "id": "bd3ead03",
   "metadata": {},
   "source": [
    "## Обаботка и подготовка данных"
   ]
  },
  {
   "cell_type": "markdown",
   "id": "23c9e18b",
   "metadata": {},
   "source": [
    "### Работа с различными категориями"
   ]
  },
  {
   "cell_type": "markdown",
   "id": "c473918b",
   "metadata": {},
   "source": [
    "Выделим основные категории, переименуем их. В случае появления новых категорий, будет отрпавлять в категорию \"Всякое другое\"."
   ]
  },
  {
   "cell_type": "code",
   "execution_count": 57,
   "id": "afcdc515",
   "metadata": {},
   "outputs": [],
   "source": [
    "df['category'] = np.where(((df['category']=='Экономика') | (df['category']=='Бизнес') \n",
    "                           | (df['category']=='Финансы') | (df['category']=='Бизнес / Транспорт')),\n",
    "                          'Экономика и бизнес', df['category']) \n",
    "\n",
    "df['category'] = np.where(((df['category']=='Моя страна') | (df['category']=='Москва')\n",
    "                           | (df['category']=='Город') | (df['category']=='Доктор Питер')\n",
    "                           | (df['category']=='Среда обитания')),'Россия', df['category'])\n",
    "\n",
    "df['category'] = np.where(((df['category']=='Международная панорама') | (df['category']=='Бывший СССР')),\n",
    "                          'Мир', df['category'])\n",
    "\n",
    "df['category'] = np.where(((df['category']=='Силовые структуры') | (df['category']=='Космос')),\n",
    "                          'Армия и ОПК', df['category']) \n",
    "\n",
    "df['category'] = np.where((df['category']=='Технологии'),'Наука и техника', df['category'])\n",
    "\n",
    "df['category'] = np.where(((df['category']=='Власть')),'Политика', df['category']) \n",
    "\n",
    "df['category'] = np.where(((df['category']=='Из жизни') \n",
    "                           | (df['category']=='Биографии и справки') | (df['category']=='Особое мнение')),\n",
    "                          'Происшествия', df['category'])\n",
    "\n",
    "df['category'] = np.where((df['category']=='Туризм и отдых') | (df['category']=='Туризм'),\n",
    "                          'Путешествия', df['category']) \n",
    "\n",
    "df['category'] = np.where((df['category']=='Афиша Plus'),'Культура', df['category'])\n",
    "\n",
    "df['category'] = np.where((df['category']=='Забота о себе'),'Здоровье', df['category'])\n",
    "\n",
    "df['category'] = np.where((df['category']=='Ценности'),'Интернет и СМИ', df['category'])\n",
    "\n",
    "df['category'] = np.where(((df['category']=='Авто') \n",
    "                           | (df['category']=='Недвижимость')),'Недвижимость и Авто', df['category'])"
   ]
  },
  {
   "cell_type": "code",
   "execution_count": 58,
   "id": "d2c07f7d",
   "metadata": {},
   "outputs": [
    {
     "data": {
      "text/plain": [
       "Политика              87\n",
       "Экономика и бизнес    87\n",
       "Всякое другое         86\n",
       "Мир                   75\n",
       "Россия                44\n",
       "Происшествия          29\n",
       "Спорт                 28\n",
       "Интернет и СМИ        24\n",
       "Наука и техника       23\n",
       "Армия и ОПК           20\n",
       "Культура               9\n",
       "Здоровье               9\n",
       "Путешествия            8\n",
       "Name: category, dtype: int64"
      ]
     },
     "execution_count": 58,
     "metadata": {},
     "output_type": "execute_result"
    }
   ],
   "source": [
    "df['category'].value_counts()"
   ]
  },
  {
   "cell_type": "code",
   "execution_count": 59,
   "id": "a54e0422",
   "metadata": {},
   "outputs": [
    {
     "data": {
      "text/plain": [
       "['Политика',\n",
       " 'Экономика и бизнес',\n",
       " 'Мир',\n",
       " 'Россия',\n",
       " 'Происшествия',\n",
       " 'Наука и техника',\n",
       " 'Интернет и СМИ',\n",
       " 'Армия и ОПК',\n",
       " 'Спорт',\n",
       " 'Путешествия',\n",
       " 'Культура',\n",
       " 'Здоровье']"
      ]
     },
     "execution_count": 59,
     "metadata": {},
     "output_type": "execute_result"
    }
   ],
   "source": [
    "new_category = ['Политика',\n",
    " 'Экономика и бизнес',\n",
    " 'Мир',\n",
    " 'Россия',\n",
    " 'Происшествия',\n",
    " 'Наука и техника',\n",
    " 'Интернет и СМИ',\n",
    " 'Армия и ОПК',\n",
    " 'Спорт',\n",
    " 'Путешествия',\n",
    " 'Культура',\n",
    " 'Здоровье'  ]\n",
    "\n",
    "new_category"
   ]
  },
  {
   "cell_type": "code",
   "execution_count": 60,
   "id": "6df456c1",
   "metadata": {},
   "outputs": [],
   "source": [
    "for cat in list(df['category'].value_counts().index):\n",
    "     if cat not in new_category:\n",
    "       df['category'] = np.where((df['category'] == cat),'Всякое другое', df['category'])"
   ]
  },
  {
   "cell_type": "code",
   "execution_count": 61,
   "id": "1f143b02",
   "metadata": {},
   "outputs": [
    {
     "data": {
      "text/plain": [
       "Политика              87\n",
       "Экономика и бизнес    87\n",
       "Всякое другое         86\n",
       "Мир                   75\n",
       "Россия                44\n",
       "Происшествия          29\n",
       "Спорт                 28\n",
       "Интернет и СМИ        24\n",
       "Наука и техника       23\n",
       "Армия и ОПК           20\n",
       "Культура               9\n",
       "Здоровье               9\n",
       "Путешествия            8\n",
       "Name: category, dtype: int64"
      ]
     },
     "execution_count": 61,
     "metadata": {},
     "output_type": "execute_result"
    }
   ],
   "source": [
    "df['category'].value_counts()"
   ]
  },
  {
   "cell_type": "markdown",
   "id": "527a9919",
   "metadata": {},
   "source": [
    "### Создадим DataFrame с нумерованным списком категорий"
   ]
  },
  {
   "cell_type": "code",
   "execution_count": 62,
   "id": "9b34e5eb",
   "metadata": {},
   "outputs": [
    {
     "data": {
      "text/html": [
       "<div>\n",
       "<style scoped>\n",
       "    .dataframe tbody tr th:only-of-type {\n",
       "        vertical-align: middle;\n",
       "    }\n",
       "\n",
       "    .dataframe tbody tr th {\n",
       "        vertical-align: top;\n",
       "    }\n",
       "\n",
       "    .dataframe thead th {\n",
       "        text-align: right;\n",
       "    }\n",
       "</style>\n",
       "<table border=\"1\" class=\"dataframe\">\n",
       "  <thead>\n",
       "    <tr style=\"text-align: right;\">\n",
       "      <th></th>\n",
       "      <th>id</th>\n",
       "      <th>category</th>\n",
       "    </tr>\n",
       "  </thead>\n",
       "  <tbody>\n",
       "    <tr>\n",
       "      <th>0</th>\n",
       "      <td>0</td>\n",
       "      <td>Наука и техника</td>\n",
       "    </tr>\n",
       "    <tr>\n",
       "      <th>1</th>\n",
       "      <td>1</td>\n",
       "      <td>Всякое другое</td>\n",
       "    </tr>\n",
       "    <tr>\n",
       "      <th>2</th>\n",
       "      <td>2</td>\n",
       "      <td>Политика</td>\n",
       "    </tr>\n",
       "    <tr>\n",
       "      <th>3</th>\n",
       "      <td>3</td>\n",
       "      <td>Экономика и бизнес</td>\n",
       "    </tr>\n",
       "    <tr>\n",
       "      <th>4</th>\n",
       "      <td>4</td>\n",
       "      <td>Интернет и СМИ</td>\n",
       "    </tr>\n",
       "    <tr>\n",
       "      <th>5</th>\n",
       "      <td>5</td>\n",
       "      <td>Мир</td>\n",
       "    </tr>\n",
       "    <tr>\n",
       "      <th>6</th>\n",
       "      <td>6</td>\n",
       "      <td>Россия</td>\n",
       "    </tr>\n",
       "    <tr>\n",
       "      <th>7</th>\n",
       "      <td>7</td>\n",
       "      <td>Происшествия</td>\n",
       "    </tr>\n",
       "    <tr>\n",
       "      <th>8</th>\n",
       "      <td>8</td>\n",
       "      <td>Армия и ОПК</td>\n",
       "    </tr>\n",
       "    <tr>\n",
       "      <th>9</th>\n",
       "      <td>9</td>\n",
       "      <td>Культура</td>\n",
       "    </tr>\n",
       "    <tr>\n",
       "      <th>10</th>\n",
       "      <td>10</td>\n",
       "      <td>Спорт</td>\n",
       "    </tr>\n",
       "    <tr>\n",
       "      <th>11</th>\n",
       "      <td>11</td>\n",
       "      <td>Здоровье</td>\n",
       "    </tr>\n",
       "    <tr>\n",
       "      <th>12</th>\n",
       "      <td>12</td>\n",
       "      <td>Путешествия</td>\n",
       "    </tr>\n",
       "  </tbody>\n",
       "</table>\n",
       "</div>"
      ],
      "text/plain": [
       "    id            category\n",
       "0    0     Наука и техника\n",
       "1    1       Всякое другое\n",
       "2    2            Политика\n",
       "3    3  Экономика и бизнес\n",
       "4    4      Интернет и СМИ\n",
       "5    5                 Мир\n",
       "6    6              Россия\n",
       "7    7        Происшествия\n",
       "8    8         Армия и ОПК\n",
       "9    9            Культура\n",
       "10  10               Спорт\n",
       "11  11            Здоровье\n",
       "12  12         Путешествия"
      ]
     },
     "execution_count": 62,
     "metadata": {},
     "output_type": "execute_result"
    }
   ],
   "source": [
    "df_category = pd.DataFrame(df['category'].unique())\n",
    "df_category = df_category.rename_axis('id').reset_index()\n",
    "df_category = df_category.rename(columns={0:'category'})\n",
    "neworder = ['id','category'] \n",
    "df_category = df_category.reindex(columns=neworder)\n",
    "df_category"
   ]
  },
  {
   "cell_type": "markdown",
   "id": "cb755fbd",
   "metadata": {},
   "source": [
    "### Создадим DataFrame с нумерованным списком сайтов-источников"
   ]
  },
  {
   "cell_type": "code",
   "execution_count": 63,
   "id": "735fe979",
   "metadata": {},
   "outputs": [
    {
     "data": {
      "text/html": [
       "<div>\n",
       "<style scoped>\n",
       "    .dataframe tbody tr th:only-of-type {\n",
       "        vertical-align: middle;\n",
       "    }\n",
       "\n",
       "    .dataframe tbody tr th {\n",
       "        vertical-align: top;\n",
       "    }\n",
       "\n",
       "    .dataframe thead th {\n",
       "        text-align: right;\n",
       "    }\n",
       "</style>\n",
       "<table border=\"1\" class=\"dataframe\">\n",
       "  <thead>\n",
       "    <tr style=\"text-align: right;\">\n",
       "      <th></th>\n",
       "      <th>id</th>\n",
       "      <th>site</th>\n",
       "    </tr>\n",
       "  </thead>\n",
       "  <tbody>\n",
       "    <tr>\n",
       "      <th>0</th>\n",
       "      <td>0</td>\n",
       "      <td>ВЕДОМОСТИ</td>\n",
       "    </tr>\n",
       "    <tr>\n",
       "      <th>1</th>\n",
       "      <td>1</td>\n",
       "      <td>TASS</td>\n",
       "    </tr>\n",
       "    <tr>\n",
       "      <th>2</th>\n",
       "      <td>2</td>\n",
       "      <td>LENTA.RU</td>\n",
       "    </tr>\n",
       "    <tr>\n",
       "      <th>3</th>\n",
       "      <td>3</td>\n",
       "      <td>Фонтонка.ру</td>\n",
       "    </tr>\n",
       "  </tbody>\n",
       "</table>\n",
       "</div>"
      ],
      "text/plain": [
       "   id         site\n",
       "0   0    ВЕДОМОСТИ\n",
       "1   1         TASS\n",
       "2   2     LENTA.RU\n",
       "3   3  Фонтонка.ру"
      ]
     },
     "execution_count": 63,
     "metadata": {},
     "output_type": "execute_result"
    }
   ],
   "source": [
    "df_sites  = pd.DataFrame(df['site'].unique())\n",
    "df_sites  = df_sites.rename_axis('id').reset_index()\n",
    "df_sites  = df_sites.rename(columns={0:'site'})\n",
    "neworder = ['id','site']  \n",
    "df_sites  = df_sites.reindex(columns=neworder)\n",
    "df_sites "
   ]
  },
  {
   "cell_type": "markdown",
   "id": "e8ee0fcd",
   "metadata": {},
   "source": [
    "### Создадим DataFrame с нумерованным списком новостей: id, номер категории, номер сайта и дата"
   ]
  },
  {
   "cell_type": "code",
   "execution_count": 64,
   "id": "809f6d8e",
   "metadata": {},
   "outputs": [],
   "source": [
    "df_news = df.copy()\n",
    "df_news['date_of_week'] = 1\n",
    "df_news['date_and_time'] = 1"
   ]
  },
  {
   "cell_type": "markdown",
   "id": "ed74cff1",
   "metadata": {},
   "source": [
    "Разделим даты на день недели и все остальное."
   ]
  },
  {
   "cell_type": "code",
   "execution_count": 65,
   "id": "66767f74",
   "metadata": {},
   "outputs": [
    {
     "name": "stderr",
     "output_type": "stream",
     "text": [
      "C:\\Users\\ASUS\\AppData\\Local\\Temp\\ipykernel_21532\\1006716051.py:3: SettingWithCopyWarning: \n",
      "A value is trying to be set on a copy of a slice from a DataFrame\n",
      "\n",
      "See the caveats in the documentation: https://pandas.pydata.org/pandas-docs/stable/user_guide/indexing.html#returning-a-view-versus-a-copy\n",
      "  df_news['date_of_week'][index] = row[0]\n",
      "C:\\Users\\ASUS\\AppData\\Local\\Temp\\ipykernel_21532\\1006716051.py:4: SettingWithCopyWarning: \n",
      "A value is trying to be set on a copy of a slice from a DataFrame\n",
      "\n",
      "See the caveats in the documentation: https://pandas.pydata.org/pandas-docs/stable/user_guide/indexing.html#returning-a-view-versus-a-copy\n",
      "  df_news['date_and_time'][index] = \" \".join(row[1].split()[:-1])\n"
     ]
    }
   ],
   "source": [
    "for index, row in enumerate(df_news['pubdate'].str.split(',')):\n",
    "    #print(row)\n",
    "    df_news['date_of_week'][index] = row[0]\n",
    "    df_news['date_and_time'][index] = \" \".join(row[1].split()[:-1])"
   ]
  },
  {
   "cell_type": "code",
   "execution_count": 66,
   "id": "fdf2478e",
   "metadata": {},
   "outputs": [
    {
     "data": {
      "text/html": [
       "<div>\n",
       "<style scoped>\n",
       "    .dataframe tbody tr th:only-of-type {\n",
       "        vertical-align: middle;\n",
       "    }\n",
       "\n",
       "    .dataframe tbody tr th {\n",
       "        vertical-align: top;\n",
       "    }\n",
       "\n",
       "    .dataframe thead th {\n",
       "        text-align: right;\n",
       "    }\n",
       "</style>\n",
       "<table border=\"1\" class=\"dataframe\">\n",
       "  <thead>\n",
       "    <tr style=\"text-align: right;\">\n",
       "      <th></th>\n",
       "      <th>title</th>\n",
       "      <th>category</th>\n",
       "      <th>site</th>\n",
       "      <th>date_of_week</th>\n",
       "      <th>date_and_time</th>\n",
       "    </tr>\n",
       "  </thead>\n",
       "  <tbody>\n",
       "    <tr>\n",
       "      <th>189</th>\n",
       "      <td>СК возбудил уголовное дело после убийства семь...</td>\n",
       "      <td>Всякое другое</td>\n",
       "      <td>ВЕДОМОСТИ</td>\n",
       "      <td>Tue</td>\n",
       "      <td>27 Dec 2022 14:31:22</td>\n",
       "    </tr>\n",
       "    <tr>\n",
       "      <th>219</th>\n",
       "      <td>В ЛНР сообщили об украинском обстреле Брянки и...</td>\n",
       "      <td>Происшествия</td>\n",
       "      <td>TASS</td>\n",
       "      <td>Fri</td>\n",
       "      <td>30 Dec 2022 05:08:55</td>\n",
       "    </tr>\n",
       "    <tr>\n",
       "      <th>83</th>\n",
       "      <td>В Севастополе опровергли введение комендантско...</td>\n",
       "      <td>Всякое другое</td>\n",
       "      <td>ВЕДОМОСТИ</td>\n",
       "      <td>Wed</td>\n",
       "      <td>28 Dec 2022 21:42:37</td>\n",
       "    </tr>\n",
       "    <tr>\n",
       "      <th>471</th>\n",
       "      <td>В доставленных на Землю лунных породах нашли э...</td>\n",
       "      <td>Наука и техника</td>\n",
       "      <td>LENTA.RU</td>\n",
       "      <td>Thu</td>\n",
       "      <td>29 Dec 2022 16:59:00</td>\n",
       "    </tr>\n",
       "    <tr>\n",
       "      <th>440</th>\n",
       "      <td>МИД Белоруссии выразил протест украинскому пос...</td>\n",
       "      <td>Мир</td>\n",
       "      <td>LENTA.RU</td>\n",
       "      <td>Thu</td>\n",
       "      <td>29 Dec 2022 18:16:00</td>\n",
       "    </tr>\n",
       "    <tr>\n",
       "      <th>144</th>\n",
       "      <td>На Урале мужчина получил пожизненный срок за у...</td>\n",
       "      <td>Всякое другое</td>\n",
       "      <td>ВЕДОМОСТИ</td>\n",
       "      <td>Wed</td>\n",
       "      <td>28 Dec 2022 11:34:55</td>\n",
       "    </tr>\n",
       "    <tr>\n",
       "      <th>42</th>\n",
       "      <td>Латвия не будет аннулировать рабочие визы сотр...</td>\n",
       "      <td>Интернет и СМИ</td>\n",
       "      <td>ВЕДОМОСТИ</td>\n",
       "      <td>Thu</td>\n",
       "      <td>29 Dec 2022 14:45:42</td>\n",
       "    </tr>\n",
       "  </tbody>\n",
       "</table>\n",
       "</div>"
      ],
      "text/plain": [
       "                                                 title         category  \\\n",
       "189  СК возбудил уголовное дело после убийства семь...    Всякое другое   \n",
       "219  В ЛНР сообщили об украинском обстреле Брянки и...     Происшествия   \n",
       "83   В Севастополе опровергли введение комендантско...    Всякое другое   \n",
       "471  В доставленных на Землю лунных породах нашли э...  Наука и техника   \n",
       "440  МИД Белоруссии выразил протест украинскому пос...              Мир   \n",
       "144  На Урале мужчина получил пожизненный срок за у...    Всякое другое   \n",
       "42   Латвия не будет аннулировать рабочие визы сотр...   Интернет и СМИ   \n",
       "\n",
       "          site date_of_week         date_and_time  \n",
       "189  ВЕДОМОСТИ          Tue  27 Dec 2022 14:31:22  \n",
       "219       TASS          Fri  30 Dec 2022 05:08:55  \n",
       "83   ВЕДОМОСТИ          Wed  28 Dec 2022 21:42:37  \n",
       "471   LENTA.RU          Thu  29 Dec 2022 16:59:00  \n",
       "440   LENTA.RU          Thu  29 Dec 2022 18:16:00  \n",
       "144  ВЕДОМОСТИ          Wed  28 Dec 2022 11:34:55  \n",
       "42   ВЕДОМОСТИ          Thu  29 Dec 2022 14:45:42  "
      ]
     },
     "execution_count": 66,
     "metadata": {},
     "output_type": "execute_result"
    }
   ],
   "source": [
    "df_news = df_news.drop(columns = ['pubdate'])\n",
    "df_news.sample(7)"
   ]
  },
  {
   "cell_type": "markdown",
   "id": "66376b2f",
   "metadata": {},
   "source": [
    "Проверим, что все корректно работает!"
   ]
  },
  {
   "cell_type": "code",
   "execution_count": 67,
   "id": "25cdb54f",
   "metadata": {},
   "outputs": [
    {
     "data": {
      "text/html": [
       "<div>\n",
       "<style scoped>\n",
       "    .dataframe tbody tr th:only-of-type {\n",
       "        vertical-align: middle;\n",
       "    }\n",
       "\n",
       "    .dataframe tbody tr th {\n",
       "        vertical-align: top;\n",
       "    }\n",
       "\n",
       "    .dataframe thead th {\n",
       "        text-align: right;\n",
       "    }\n",
       "</style>\n",
       "<table border=\"1\" class=\"dataframe\">\n",
       "  <thead>\n",
       "    <tr style=\"text-align: right;\">\n",
       "      <th></th>\n",
       "      <th>title</th>\n",
       "      <th>category</th>\n",
       "      <th>site</th>\n",
       "      <th>date_of_week</th>\n",
       "      <th>date_and_time</th>\n",
       "    </tr>\n",
       "  </thead>\n",
       "  <tbody>\n",
       "    <tr>\n",
       "      <th>501</th>\n",
       "      <td>Дух реки и нарядные ели. Посмотрите, как Леноб...</td>\n",
       "      <td>Всякое другое</td>\n",
       "      <td>Фонтонка.ру</td>\n",
       "      <td>Fri</td>\n",
       "      <td>30 Dec 2022 00:59:48</td>\n",
       "    </tr>\n",
       "    <tr>\n",
       "      <th>224</th>\n",
       "      <td>Мизулина назвала затраты организаторов информа...</td>\n",
       "      <td>Всякое другое</td>\n",
       "      <td>TASS</td>\n",
       "      <td>Fri</td>\n",
       "      <td>30 Dec 2022 03:20:16</td>\n",
       "    </tr>\n",
       "    <tr>\n",
       "      <th>470</th>\n",
       "      <td>Путин подписал закон о запрете принудительного...</td>\n",
       "      <td>Россия</td>\n",
       "      <td>LENTA.RU</td>\n",
       "      <td>Thu</td>\n",
       "      <td>29 Dec 2022 17:00:00</td>\n",
       "    </tr>\n",
       "    <tr>\n",
       "      <th>486</th>\n",
       "      <td>Названа стоимость «крабового сафари» на Крайне...</td>\n",
       "      <td>Россия</td>\n",
       "      <td>LENTA.RU</td>\n",
       "      <td>Thu</td>\n",
       "      <td>29 Dec 2022 16:41:00</td>\n",
       "    </tr>\n",
       "    <tr>\n",
       "      <th>474</th>\n",
       "      <td>Больница по ошибке сообщила пациентам о раке в...</td>\n",
       "      <td>Происшествия</td>\n",
       "      <td>LENTA.RU</td>\n",
       "      <td>Thu</td>\n",
       "      <td>29 Dec 2022 16:56:00</td>\n",
       "    </tr>\n",
       "  </tbody>\n",
       "</table>\n",
       "</div>"
      ],
      "text/plain": [
       "                                                 title       category  \\\n",
       "501  Дух реки и нарядные ели. Посмотрите, как Леноб...  Всякое другое   \n",
       "224  Мизулина назвала затраты организаторов информа...  Всякое другое   \n",
       "470  Путин подписал закон о запрете принудительного...         Россия   \n",
       "486  Названа стоимость «крабового сафари» на Крайне...         Россия   \n",
       "474  Больница по ошибке сообщила пациентам о раке в...   Происшествия   \n",
       "\n",
       "            site date_of_week         date_and_time  \n",
       "501  Фонтонка.ру          Fri  30 Dec 2022 00:59:48  \n",
       "224         TASS          Fri  30 Dec 2022 03:20:16  \n",
       "470     LENTA.RU          Thu  29 Dec 2022 17:00:00  \n",
       "486     LENTA.RU          Thu  29 Dec 2022 16:41:00  \n",
       "474     LENTA.RU          Thu  29 Dec 2022 16:56:00  "
      ]
     },
     "execution_count": 67,
     "metadata": {},
     "output_type": "execute_result"
    }
   ],
   "source": [
    "df_news.sample(5)"
   ]
  },
  {
   "cell_type": "code",
   "execution_count": 68,
   "id": "762e7422",
   "metadata": {},
   "outputs": [
    {
     "name": "stderr",
     "output_type": "stream",
     "text": [
      "C:\\Users\\ASUS\\AppData\\Local\\Temp\\ipykernel_21532\\2545184561.py:5: SettingWithCopyWarning: \n",
      "A value is trying to be set on a copy of a slice from a DataFrame\n",
      "\n",
      "See the caveats in the documentation: https://pandas.pydata.org/pandas-docs/stable/user_guide/indexing.html#returning-a-view-versus-a-copy\n",
      "  df_news['category_num'][ind] = i\n"
     ]
    }
   ],
   "source": [
    "df_news['category_num'] = 0\n",
    "for ind, row in enumerate(df_news['category']):\n",
    "    for i, cat in enumerate(df_category['category']):\n",
    "        if row == cat:\n",
    "            df_news['category_num'][ind] = i"
   ]
  },
  {
   "cell_type": "code",
   "execution_count": 69,
   "id": "e7540ccf",
   "metadata": {},
   "outputs": [
    {
     "name": "stderr",
     "output_type": "stream",
     "text": [
      "C:\\Users\\ASUS\\AppData\\Local\\Temp\\ipykernel_21532\\2594518947.py:5: SettingWithCopyWarning: \n",
      "A value is trying to be set on a copy of a slice from a DataFrame\n",
      "\n",
      "See the caveats in the documentation: https://pandas.pydata.org/pandas-docs/stable/user_guide/indexing.html#returning-a-view-versus-a-copy\n",
      "  df_news['site_num'][ind] = i\n"
     ]
    }
   ],
   "source": [
    "df_news['site_num'] = 0\n",
    "for ind, row in enumerate(df_news['site']):\n",
    "    for i, cat in enumerate(df_sites['site']):\n",
    "        if row == cat:\n",
    "            df_news['site_num'][ind] = i"
   ]
  },
  {
   "cell_type": "markdown",
   "id": "97d877cc",
   "metadata": {},
   "source": [
    "Все супер! Удалим избыточные столбцы 'site', 'category'."
   ]
  },
  {
   "cell_type": "code",
   "execution_count": 70,
   "id": "017f0327",
   "metadata": {},
   "outputs": [
    {
     "data": {
      "text/html": [
       "<div>\n",
       "<style scoped>\n",
       "    .dataframe tbody tr th:only-of-type {\n",
       "        vertical-align: middle;\n",
       "    }\n",
       "\n",
       "    .dataframe tbody tr th {\n",
       "        vertical-align: top;\n",
       "    }\n",
       "\n",
       "    .dataframe thead th {\n",
       "        text-align: right;\n",
       "    }\n",
       "</style>\n",
       "<table border=\"1\" class=\"dataframe\">\n",
       "  <thead>\n",
       "    <tr style=\"text-align: right;\">\n",
       "      <th></th>\n",
       "      <th>title</th>\n",
       "      <th>category_num</th>\n",
       "      <th>site_num</th>\n",
       "      <th>date_and_time</th>\n",
       "      <th>date_of_week</th>\n",
       "    </tr>\n",
       "  </thead>\n",
       "  <tbody>\n",
       "    <tr>\n",
       "      <th>2</th>\n",
       "      <td>Путин утвердил приостановку взыскания долгов с...</td>\n",
       "      <td>1</td>\n",
       "      <td>0</td>\n",
       "      <td>29 Dec 2022 21:57:07</td>\n",
       "      <td>Thu</td>\n",
       "    </tr>\n",
       "    <tr>\n",
       "      <th>416</th>\n",
       "      <td>Шансы Италии стать гарантом мирного договора п...</td>\n",
       "      <td>5</td>\n",
       "      <td>2</td>\n",
       "      <td>29 Dec 2022 19:02:00</td>\n",
       "      <td>Thu</td>\n",
       "    </tr>\n",
       "    <tr>\n",
       "      <th>401</th>\n",
       "      <td>Пассажиров российского самолета эвакуировали и...</td>\n",
       "      <td>12</td>\n",
       "      <td>2</td>\n",
       "      <td>29 Dec 2022 19:29:00</td>\n",
       "      <td>Thu</td>\n",
       "    </tr>\n",
       "    <tr>\n",
       "      <th>186</th>\n",
       "      <td>В Минсельхозе оценили ситуацию на рынке сахара</td>\n",
       "      <td>3</td>\n",
       "      <td>0</td>\n",
       "      <td>27 Dec 2022 15:01:40</td>\n",
       "      <td>Tue</td>\n",
       "    </tr>\n",
       "    <tr>\n",
       "      <th>163</th>\n",
       "      <td>Курс доллара превысил 71 рубль</td>\n",
       "      <td>3</td>\n",
       "      <td>0</td>\n",
       "      <td>27 Dec 2022 19:11:14</td>\n",
       "      <td>Tue</td>\n",
       "    </tr>\n",
       "    <tr>\n",
       "      <th>474</th>\n",
       "      <td>Больница по ошибке сообщила пациентам о раке в...</td>\n",
       "      <td>7</td>\n",
       "      <td>2</td>\n",
       "      <td>29 Dec 2022 16:56:00</td>\n",
       "      <td>Thu</td>\n",
       "    </tr>\n",
       "    <tr>\n",
       "      <th>324</th>\n",
       "      <td>России предсказали рекордный профицит внешней ...</td>\n",
       "      <td>3</td>\n",
       "      <td>2</td>\n",
       "      <td>30 Dec 2022 03:17:00</td>\n",
       "      <td>Fri</td>\n",
       "    </tr>\n",
       "  </tbody>\n",
       "</table>\n",
       "</div>"
      ],
      "text/plain": [
       "                                                 title  category_num  \\\n",
       "2    Путин утвердил приостановку взыскания долгов с...             1   \n",
       "416  Шансы Италии стать гарантом мирного договора п...             5   \n",
       "401  Пассажиров российского самолета эвакуировали и...            12   \n",
       "186     В Минсельхозе оценили ситуацию на рынке сахара             3   \n",
       "163                     Курс доллара превысил 71 рубль             3   \n",
       "474  Больница по ошибке сообщила пациентам о раке в...             7   \n",
       "324  России предсказали рекордный профицит внешней ...             3   \n",
       "\n",
       "     site_num         date_and_time date_of_week  \n",
       "2           0  29 Dec 2022 21:57:07          Thu  \n",
       "416         2  29 Dec 2022 19:02:00          Thu  \n",
       "401         2  29 Dec 2022 19:29:00          Thu  \n",
       "186         0  27 Dec 2022 15:01:40          Tue  \n",
       "163         0  27 Dec 2022 19:11:14          Tue  \n",
       "474         2  29 Dec 2022 16:56:00          Thu  \n",
       "324         2  30 Dec 2022 03:17:00          Fri  "
      ]
     },
     "execution_count": 70,
     "metadata": {},
     "output_type": "execute_result"
    }
   ],
   "source": [
    "df_news = df_news.drop(columns = ['site', 'category'])\n",
    "neworder = ['title', 'category_num', 'site_num', 'date_and_time', 'date_of_week']  \n",
    "df_news = df_news.reindex(columns=neworder)\n",
    "df_news.sample(7)"
   ]
  },
  {
   "cell_type": "markdown",
   "id": "58c7ed7a",
   "metadata": {},
   "source": [
    "Кажется, что для наших витрин сами названия новостей не нужны. Тем более у нас есть сохраненная резервная копи данных. \n",
    "Удалим названия новостей. "
   ]
  },
  {
   "cell_type": "code",
   "execution_count": 71,
   "id": "e64fff5a",
   "metadata": {},
   "outputs": [
    {
     "data": {
      "text/html": [
       "<div>\n",
       "<style scoped>\n",
       "    .dataframe tbody tr th:only-of-type {\n",
       "        vertical-align: middle;\n",
       "    }\n",
       "\n",
       "    .dataframe tbody tr th {\n",
       "        vertical-align: top;\n",
       "    }\n",
       "\n",
       "    .dataframe thead th {\n",
       "        text-align: right;\n",
       "    }\n",
       "</style>\n",
       "<table border=\"1\" class=\"dataframe\">\n",
       "  <thead>\n",
       "    <tr style=\"text-align: right;\">\n",
       "      <th></th>\n",
       "      <th>category_num</th>\n",
       "      <th>site_num</th>\n",
       "      <th>date_and_time</th>\n",
       "      <th>date_of_week</th>\n",
       "    </tr>\n",
       "  </thead>\n",
       "  <tbody>\n",
       "    <tr>\n",
       "      <th>94</th>\n",
       "      <td>2</td>\n",
       "      <td>0</td>\n",
       "      <td>28 Dec 2022 19:02:27</td>\n",
       "      <td>Wed</td>\n",
       "    </tr>\n",
       "    <tr>\n",
       "      <th>385</th>\n",
       "      <td>5</td>\n",
       "      <td>2</td>\n",
       "      <td>29 Dec 2022 20:22:00</td>\n",
       "      <td>Thu</td>\n",
       "    </tr>\n",
       "    <tr>\n",
       "      <th>76</th>\n",
       "      <td>2</td>\n",
       "      <td>0</td>\n",
       "      <td>29 Dec 2022 07:55:16</td>\n",
       "      <td>Thu</td>\n",
       "    </tr>\n",
       "    <tr>\n",
       "      <th>265</th>\n",
       "      <td>1</td>\n",
       "      <td>1</td>\n",
       "      <td>30 Dec 2022 00:08:44</td>\n",
       "      <td>Fri</td>\n",
       "    </tr>\n",
       "    <tr>\n",
       "      <th>458</th>\n",
       "      <td>10</td>\n",
       "      <td>2</td>\n",
       "      <td>29 Dec 2022 17:41:35</td>\n",
       "      <td>Thu</td>\n",
       "    </tr>\n",
       "    <tr>\n",
       "      <th>309</th>\n",
       "      <td>6</td>\n",
       "      <td>2</td>\n",
       "      <td>30 Dec 2022 05:46:30</td>\n",
       "      <td>Fri</td>\n",
       "    </tr>\n",
       "    <tr>\n",
       "      <th>383</th>\n",
       "      <td>8</td>\n",
       "      <td>2</td>\n",
       "      <td>29 Dec 2022 20:27:00</td>\n",
       "      <td>Thu</td>\n",
       "    </tr>\n",
       "  </tbody>\n",
       "</table>\n",
       "</div>"
      ],
      "text/plain": [
       "     category_num  site_num         date_and_time date_of_week\n",
       "94              2         0  28 Dec 2022 19:02:27          Wed\n",
       "385             5         2  29 Dec 2022 20:22:00          Thu\n",
       "76              2         0  29 Dec 2022 07:55:16          Thu\n",
       "265             1         1  30 Dec 2022 00:08:44          Fri\n",
       "458            10         2  29 Dec 2022 17:41:35          Thu\n",
       "309             6         2  30 Dec 2022 05:46:30          Fri\n",
       "383             8         2  29 Dec 2022 20:27:00          Thu"
      ]
     },
     "execution_count": 71,
     "metadata": {},
     "output_type": "execute_result"
    }
   ],
   "source": [
    "df_news = df_news.drop(columns = ['title'])\n",
    "df_news.sample(7)"
   ]
  },
  {
   "cell_type": "markdown",
   "id": "11dd0a91",
   "metadata": {},
   "source": [
    "### Вывод\n",
    "\n",
    "Теперь у нас есть три прекрасные нормализованные таблицы (пока еще DataFrame) для загрузки их в PostgreSQL."
   ]
  },
  {
   "cell_type": "code",
   "execution_count": 72,
   "id": "221443f5",
   "metadata": {},
   "outputs": [
    {
     "data": {
      "text/html": [
       "<div>\n",
       "<style scoped>\n",
       "    .dataframe tbody tr th:only-of-type {\n",
       "        vertical-align: middle;\n",
       "    }\n",
       "\n",
       "    .dataframe tbody tr th {\n",
       "        vertical-align: top;\n",
       "    }\n",
       "\n",
       "    .dataframe thead th {\n",
       "        text-align: right;\n",
       "    }\n",
       "</style>\n",
       "<table border=\"1\" class=\"dataframe\">\n",
       "  <thead>\n",
       "    <tr style=\"text-align: right;\">\n",
       "      <th></th>\n",
       "      <th>category_num</th>\n",
       "      <th>site_num</th>\n",
       "      <th>date_and_time</th>\n",
       "      <th>date_of_week</th>\n",
       "    </tr>\n",
       "  </thead>\n",
       "  <tbody>\n",
       "    <tr>\n",
       "      <th>113</th>\n",
       "      <td>1</td>\n",
       "      <td>0</td>\n",
       "      <td>28 Dec 2022 15:46:15</td>\n",
       "      <td>Wed</td>\n",
       "    </tr>\n",
       "    <tr>\n",
       "      <th>293</th>\n",
       "      <td>1</td>\n",
       "      <td>1</td>\n",
       "      <td>29 Dec 2022 22:52:52</td>\n",
       "      <td>Thu</td>\n",
       "    </tr>\n",
       "    <tr>\n",
       "      <th>468</th>\n",
       "      <td>9</td>\n",
       "      <td>2</td>\n",
       "      <td>29 Dec 2022 17:06:00</td>\n",
       "      <td>Thu</td>\n",
       "    </tr>\n",
       "    <tr>\n",
       "      <th>248</th>\n",
       "      <td>9</td>\n",
       "      <td>1</td>\n",
       "      <td>30 Dec 2022 01:02:58</td>\n",
       "      <td>Fri</td>\n",
       "    </tr>\n",
       "    <tr>\n",
       "      <th>287</th>\n",
       "      <td>10</td>\n",
       "      <td>1</td>\n",
       "      <td>29 Dec 2022 23:06:19</td>\n",
       "      <td>Thu</td>\n",
       "    </tr>\n",
       "    <tr>\n",
       "      <th>436</th>\n",
       "      <td>6</td>\n",
       "      <td>2</td>\n",
       "      <td>29 Dec 2022 18:24:00</td>\n",
       "      <td>Thu</td>\n",
       "    </tr>\n",
       "    <tr>\n",
       "      <th>225</th>\n",
       "      <td>5</td>\n",
       "      <td>1</td>\n",
       "      <td>30 Dec 2022 03:19:14</td>\n",
       "      <td>Fri</td>\n",
       "    </tr>\n",
       "  </tbody>\n",
       "</table>\n",
       "</div>"
      ],
      "text/plain": [
       "     category_num  site_num         date_and_time date_of_week\n",
       "113             1         0  28 Dec 2022 15:46:15          Wed\n",
       "293             1         1  29 Dec 2022 22:52:52          Thu\n",
       "468             9         2  29 Dec 2022 17:06:00          Thu\n",
       "248             9         1  30 Dec 2022 01:02:58          Fri\n",
       "287            10         1  29 Dec 2022 23:06:19          Thu\n",
       "436             6         2  29 Dec 2022 18:24:00          Thu\n",
       "225             5         1  30 Dec 2022 03:19:14          Fri"
      ]
     },
     "execution_count": 72,
     "metadata": {},
     "output_type": "execute_result"
    }
   ],
   "source": [
    "df_news.sample(7)"
   ]
  },
  {
   "cell_type": "markdown",
   "id": "ec813235",
   "metadata": {},
   "source": [
    "## Заполнение таблиц БД PostgreSQL"
   ]
  },
  {
   "cell_type": "markdown",
   "id": "ebf9dc14",
   "metadata": {},
   "source": [
    "Подключение к БД PostgreSQL"
   ]
  },
  {
   "cell_type": "code",
   "execution_count": 73,
   "id": "1b0d27a3",
   "metadata": {},
   "outputs": [],
   "source": [
    "import psycopg2\n",
    "\n",
    "conn = psycopg2.connect(\n",
    "    database=\"airflow\",\n",
    "    user=\"airflow\",\n",
    "    password=\"airflow\",\n",
    "    host=\"host.docker.internal\",\n",
    "    port=\"35432\"\n",
    ")\n",
    "\n",
    "cur = conn.cursor()"
   ]
  },
  {
   "cell_type": "code",
   "execution_count": 74,
   "id": "ecb36a75",
   "metadata": {},
   "outputs": [],
   "source": [
    "create_posts_table = \"\"\"\n",
    "CREATE TABLE IF NOT EXISTS SS_NEWS_10 (\n",
    "    ID INT GENERATED ALWAYS AS IDENTITY PRIMARY KEY,\n",
    "    category_num INTEGER NOT NULL, \n",
    "    site_num INTEGER NOT NULL,\n",
    "    date_and_time TIMESTAMP NOT NULL, \n",
    "    date_of_week CHARACTER VARYING(30) NOT NULL,\n",
    "    CONSTRAINT fk_category_num\n",
    "      FOREIGN KEY(category_num)\n",
    "          REFERENCES CATEGORY(ID)\n",
    "          ON DELETE CASCADE,\n",
    "    CONSTRAINT fk_site_num\n",
    "      FOREIGN KEY(site_num)\n",
    "          REFERENCES SITE(ID)\n",
    "          ON DELETE CASCADE  \n",
    "    )\n",
    "\"\"\"\n",
    "\n",
    "conn.autocommit = True\n",
    "cur.execute(create_posts_table)"
   ]
  },
  {
   "cell_type": "code",
   "execution_count": 75,
   "id": "473bb654",
   "metadata": {},
   "outputs": [
    {
     "data": {
      "text/plain": [
       "[(0, 0, '29 Dec 2022 22:41:42', 'Thu'),\n",
       " (1, 0, '29 Dec 2022 22:19:00', 'Thu'),\n",
       " (1, 0, '29 Dec 2022 21:57:07', 'Thu'),\n",
       " (2, 0, '29 Dec 2022 21:32:44', 'Thu'),\n",
       " (3, 0, '29 Dec 2022 21:12:16', 'Thu'),\n",
       " (2, 0, '29 Dec 2022 20:52:17', 'Thu'),\n",
       " (3, 0, '29 Dec 2022 20:44:34', 'Thu'),\n",
       " (2, 0, '29 Dec 2022 20:22:18', 'Thu'),\n",
       " (1, 0, '29 Dec 2022 19:58:09', 'Thu'),\n",
       " (2, 0, '29 Dec 2022 19:34:50', 'Thu')]"
      ]
     },
     "execution_count": 75,
     "metadata": {},
     "output_type": "execute_result"
    }
   ],
   "source": [
    "df_shema_news= list(df_news.itertuples(index=False, name=None))\n",
    "df_shema_news[:10]"
   ]
  },
  {
   "cell_type": "code",
   "execution_count": 76,
   "id": "1789bfbc",
   "metadata": {},
   "outputs": [],
   "source": [
    "data_news = \", \".join([\"%s\"] * len(df_news))\n",
    "\n",
    "insert_query = (\n",
    "    f\"INSERT INTO SS_NEWS (category_num, site_num, date_and_time, date_of_week) VALUES {data_news}\"\n",
    ")\n",
    "\n",
    "conn.autocommit = True\n",
    "cur = conn.cursor()\n",
    "cur.execute(insert_query, df_shema_news)"
   ]
  },
  {
   "cell_type": "code",
   "execution_count": 77,
   "id": "776140cf",
   "metadata": {},
   "outputs": [
    {
     "name": "stdout",
     "output_type": "stream",
     "text": [
      "(6, 2, 0, datetime.datetime(2022, 12, 29, 20, 52, 17), 'Thu')\n",
      "(7, 3, 0, datetime.datetime(2022, 12, 29, 20, 44, 34), 'Thu')\n",
      "(8, 2, 0, datetime.datetime(2022, 12, 29, 20, 22, 18), 'Thu')\n",
      "(9, 1, 0, datetime.datetime(2022, 12, 29, 19, 58, 9), 'Thu')\n",
      "(10, 2, 0, datetime.datetime(2022, 12, 29, 19, 34, 50), 'Thu')\n"
     ]
    }
   ],
   "source": [
    "#  Посмотрим на данные в таблице NEWS\n",
    "cur.execute(\"SELECT * FROM SS_NEWS_10 LIMIT 10 \")\n",
    "dirs = cur.fetchall()\n",
    "for row in dirs[-5:]:\n",
    "    \n",
    "    print(row)"
   ]
  },
  {
   "cell_type": "markdown",
   "id": "7bdf71fe",
   "metadata": {},
   "source": [
    "# Витрины"
   ]
  },
  {
   "cell_type": "markdown",
   "id": "fca67065",
   "metadata": {},
   "source": [
    "Создадим витрины с помощью SQL скриптов."
   ]
  },
  {
   "cell_type": "markdown",
   "id": "d0c4f424",
   "metadata": {},
   "source": [
    "## Витрина 1"
   ]
  },
  {
   "cell_type": "code",
   "execution_count": 81,
   "id": "f1da7115",
   "metadata": {},
   "outputs": [
    {
     "name": "stdout",
     "output_type": "stream",
     "text": [
      "(0, 'Наука и техника', 1515119612, 2337259414, Decimal('154010'), Decimal('192603'))\n",
      "(1, 'Всякое другое', 2933457143, 4621189692, Decimal('116759'), Decimal('132801'))\n",
      "(2, 'Политика', 1895857486, 3787721436, Decimal('107658'), Decimal('152861'))\n",
      "(3, 'Экономика и бизнес', 2616364201, 4622416592, Decimal('116716'), Decimal('109282'))\n",
      "(4, 'Интернет и СМИ', 2615022404, 2615022404, Decimal('129233'), Decimal('143053'))\n",
      "(5, 'Мир', 3062508539, 3062508539, Decimal('109610'), Decimal('127997'))\n",
      "(6, 'Армия и ОПК', 1577424264, 1577424264, Decimal('134466'), Decimal('133193'))\n",
      "(7, 'Происшествия', 934445841, 934445841, Decimal('142816'), Decimal('157416'))\n",
      "(8, 'Культура', 953079054, 953079054, Decimal('96534'), Decimal('102863'))\n",
      "(9, 'Спорт', 1381171748, 1381171748, Decimal('115666'), Decimal('152891'))\n",
      "(10, 'Россия', 986467063, 986467063, Decimal('96817'), Decimal('129930'))\n",
      "(11, 'Здоровье', 702952534, 702952534, Decimal('134769'), Decimal('177466'))\n",
      "(12, 'Путешествия', 577427374, 577427374, Decimal('140699'), Decimal('208346'))\n"
     ]
    }
   ],
   "source": [
    "#Общее количество новостей из всех источников по данной категории за все время\n",
    "#Общее количество новостей из всех источников по данной категории за последние сутки\n",
    "#Среднее количество публикаций по данной категории за все время\n",
    "#Среднее количество публикаций по данной категории за последние сутки\n",
    "\n",
    "cur.execute(\"with nnum_4 as ( \\\n",
    "                    with num_4 as (select category_num, \\\n",
    "                                        round(avg(id)) as avg_per_last_day \\\n",
    "                            from ss_news \\\n",
    "                            where (cast(CURRENT_DATE as DATE)- cast(date_and_time as DATE)) < 1 \\\n",
    "                            group by category_num \\\n",
    "                            order by category_num ) \\\n",
    "                    select id, category, avg_per_last_day \\\n",
    "                    from categories ac \\\n",
    "                    join num_4 on num_4.category_num = ac.id \\\n",
    "                    ), \\\n",
    "                    nnum_1 as( \\\n",
    "                    with num_1 as (select category_num, \\\n",
    "                            sum(id) as sum_all \\\n",
    "                    from ss_news \\\n",
    "                    group by category_num \\\n",
    "                    order by category_num )  \\\n",
    "                    select id, category, sum_all \\\n",
    "                    from categories ac  \\\n",
    "                    join num_1 on num_1.category_num = ac.id \\\n",
    "                    ), \\\n",
    "                    nnum_2 as ( \\\n",
    "                    with num_2 as (select category_num, \\\n",
    "                                        sum(id) as sum_last_day \\\n",
    "                                 from ss_news \\\n",
    "                                 where (cast(CURRENT_DATE as DATE)- cast(date_and_time as DATE)) < 2  \\\n",
    "                                 group by category_num)  \\\n",
    "                    select ac.id, \\\n",
    "                           category, \\\n",
    "                           sum_last_day \\\n",
    "                    from categories ac  \\\n",
    "                    join num_2 on num_2.category_num = ac.id \\\n",
    "                    ), \\\n",
    "                    nnum_3 as ( \\\n",
    "                    with num_3 as (select category_num, \\\n",
    "                                        round(avg(id)) as avg_all \\\n",
    "                            from ss_news \\\n",
    "                            group by category_num \\\n",
    "                            order by category_num ) \\\n",
    "                    select id, category, avg_all \\\n",
    "                    from categories ac  \\\n",
    "                    join num_3 on num_3.category_num = ac.id \\\n",
    "                    ) \\\n",
    "                    select nnum_2.id, \\\n",
    "                           nnum_2.category, \\\n",
    "                           nnum_2.sum_last_day, \\\n",
    "                           nnum_1.sum_all, \\\n",
    "                           nnum_3.avg_all, \\\n",
    "                           nnum_4.avg_per_last_day \\\n",
    "                    from nnum_2 join nnum_1 \\\n",
    "                    on nnum_1.id = nnum_2.id \\\n",
    "                    join nnum_3  \\\n",
    "                    on nnum_1.id = nnum_3.id \\\n",
    "                    join nnum_4 \\\n",
    "                    on nnum_1.id = nnum_4.id\")\n",
    "dirs = cur.fetchall()\n",
    "for row in dirs[-20:]:\n",
    "    \n",
    "    print(row)"
   ]
  },
  {
   "cell_type": "markdown",
   "id": "1d40137c",
   "metadata": {},
   "source": [
    "## Витрина 2"
   ]
  },
  {
   "cell_type": "code",
   "execution_count": 90,
   "id": "83d3cf5e",
   "metadata": {},
   "outputs": [
    {
     "name": "stdout",
     "output_type": "stream",
     "text": [
      "(9, 'Спорт', 'TASS', Decimal('111612257'), Decimal('1117608950'))\n",
      "(9, 'Спорт', 'TASS', Decimal('111612257'), Decimal('111612257'))\n",
      "(9, 'Спорт', 'TASS', Decimal('111612257'), Decimal('238164623'))\n",
      "(9, 'Спорт', 'Фонтонка.ру', Decimal('238164623'), Decimal('1117608950'))\n",
      "(9, 'Спорт', 'Фонтонка.ру', Decimal('238164623'), Decimal('111612257'))\n",
      "(9, 'Спорт', 'Фонтонка.ру', Decimal('238164623'), Decimal('238164623'))\n",
      "(10, 'Россия', 'LENTA.RU', Decimal('997869385'), Decimal('997869385'))\n",
      "(10, 'Россия', 'LENTA.RU', Decimal('997869385'), Decimal('1068175'))\n",
      "(10, 'Россия', 'LENTA.RU', Decimal('997869385'), Decimal('43776618'))\n",
      "(10, 'Россия', 'TASS', Decimal('1068175'), Decimal('997869385'))\n",
      "(10, 'Россия', 'TASS', Decimal('1068175'), Decimal('1068175'))\n",
      "(10, 'Россия', 'TASS', Decimal('1068175'), Decimal('43776618'))\n",
      "(10, 'Россия', 'Фонтонка.ру', Decimal('43776618'), Decimal('997869385'))\n",
      "(10, 'Россия', 'Фонтонка.ру', Decimal('43776618'), Decimal('1068175'))\n",
      "(10, 'Россия', 'Фонтонка.ру', Decimal('43776618'), Decimal('43776618'))\n",
      "(11, 'Здоровье', 'LENTA.RU', Decimal('723324367'), Decimal('723324367'))\n",
      "(11, 'Здоровье', 'LENTA.RU', Decimal('723324367'), Decimal('2213613'))\n",
      "(11, 'Здоровье', 'Фонтонка.ру', Decimal('2213613'), Decimal('723324367'))\n",
      "(11, 'Здоровье', 'Фонтонка.ру', Decimal('2213613'), Decimal('2213613'))\n",
      "(12, 'Путешествия', 'LENTA.RU', Decimal('606507337'), Decimal('606507337'))\n"
     ]
    }
   ],
   "source": [
    "#Количество новостей данной категории для каждого из источников за последние сутки\n",
    "#Количество новостей данной категории для каждого из источников за все время\n",
    "\n",
    "cur.execute(\"with nn_1 as ( \\\n",
    "                with n_1 as (select category_num, site_num, \\\n",
    "                            sum(id) as sum_per_site \\\n",
    "                            from ss_news \\\n",
    "                               group by category_num, site_num \\\n",
    "                               order by category_num, site_num), \\\n",
    "                     s as (select id,  \\\n",
    "                                  site \\\n",
    "                           from sites) \\\n",
    "                select c.id,  \\\n",
    "                       c.category,  \\\n",
    "                       s.site, \\\n",
    "                       sum(n_1.sum_per_site) as sum_per_site_all \\\n",
    "                from categories as c \\\n",
    "                join n_1 on n_1.category_num = c.id \\\n",
    "                join s on n_1.site_num = s.id \\\n",
    "                group by c.id, s.site  \\\n",
    "                order by id  \\\n",
    "                ), \\\n",
    "                nn_2 as  \\\n",
    "                (with n_2 as (select category_num,  \\\n",
    "                                  site_num, \\\n",
    "                                  sum(id) as sum_per_site_last_day \\\n",
    "                             from SS_news \\\n",
    "                             where (cast(CURRENT_DATE as DATE)- cast(date_and_time as DATE)) < 2  \\\n",
    "                             group by category_num, site_num  \\\n",
    "                             order by category_num, site_num), \\\n",
    "                         s as (select id,  \\\n",
    "                                  site \\\n",
    "                           from aa_site) \\\n",
    "                select c.id,  \\\n",
    "                       c.category,  \\\n",
    "                       s.site, \\\n",
    "                       sum(n_2.sum_per_site_last_day) as sum_per_site_last_day \\\n",
    "                from categories as c \\\n",
    "                join n_2 on n_2.category_num = c.id \\\n",
    "                join s on n_2.site_num = s.id \\\n",
    "                group by c.id, s.site  \\\n",
    "                order by id, site \\\n",
    "                ) \\\n",
    "                select nn_1.id,  \\\n",
    "                       nn_1.category,  \\\n",
    "                       nn_1.site, \\\n",
    "                       nn_1.sum_per_site_all, \\\n",
    "                       nn_2.sum_per_site_last_day \\\n",
    "                from nn_1 join nn_2 \\\n",
    "                on nn_1.id = nn_2.id\") \n",
    "dirs = cur.fetchall()\n",
    "for row in dirs[-20:]:\n",
    "    \n",
    "    print(row)"
   ]
  },
  {
   "cell_type": "markdown",
   "id": "6025837c",
   "metadata": {},
   "source": [
    "## Витрина 3"
   ]
  },
  {
   "cell_type": "code",
   "execution_count": 94,
   "id": "97467cbb",
   "metadata": {},
   "outputs": [
    {
     "name": "stdout",
     "output_type": "stream",
     "text": [
      "(0, datetime.date(2022, 12, 27))\n",
      "(1, datetime.date(2022, 12, 27))\n",
      "(2, datetime.date(2022, 12, 27))\n",
      "(3, datetime.date(2022, 12, 27))\n",
      "(4, datetime.date(2022, 12, 29))\n",
      "(5, datetime.date(2022, 12, 29))\n",
      "(6, datetime.date(2022, 12, 29))\n",
      "(7, datetime.date(2022, 12, 29))\n",
      "(8, datetime.date(2022, 12, 29))\n",
      "(9, datetime.date(2022, 12, 29))\n",
      "(10, datetime.date(2022, 12, 29))\n",
      "(11, datetime.date(2022, 12, 29))\n",
      "(12, datetime.date(2022, 12, 29))\n"
     ]
    }
   ],
   "source": [
    "#День, в который было сделано максимальное количество публикаций по данной категории\n",
    "cur.execute(\" with s as ( \\\n",
    "            select category_num, \\\n",
    "                        (first_value(cast(date_and_time as DATE)) OVER (PARTITION BY category_num)) as max_day \\\n",
    "                         from ss_news \\\n",
    "                         group by category_num, cast(date_and_time as DATE) \\\n",
    "                         order by category_num ) \\\n",
    "            select category_num, \\\n",
    "                   max(max_day) as day_with_max_news \\\n",
    "            from s  \\\n",
    "            group by category_num\") \n",
    "dirs = cur.fetchall()\n",
    "for row in dirs[-20:]:\n",
    "    \n",
    "    print(row)"
   ]
  },
  {
   "cell_type": "code",
   "execution_count": null,
   "id": "0fd9a226",
   "metadata": {},
   "outputs": [],
   "source": []
  },
  {
   "cell_type": "markdown",
   "id": "9bf465be",
   "metadata": {},
   "source": [
    "## Витрина 4"
   ]
  },
  {
   "cell_type": "code",
   "execution_count": 80,
   "id": "32ec0c9e",
   "metadata": {},
   "outputs": [
    {
     "name": "stdout",
     "output_type": "stream",
     "text": [
      "(3, 'Экономика и бизнес', 'Thu', 1932659491)\n",
      "(3, 'Экономика и бизнес', 'Fri', 616904811)\n",
      "(4, 'Интернет и СМИ', 'Thu', 1617553997)\n",
      "(4, 'Интернет и СМИ', 'Fri', 968155096)\n",
      "(5, 'Мир', 'Thu', 2071409284)\n",
      "(5, 'Мир', 'Fri', 908376216)\n",
      "(6, 'Армия и ОПК', 'Thu', 837495330)\n",
      "(6, 'Армия и ОПК', 'Fri', 617740125)\n",
      "(7, 'Происшествия', 'Thu', 479499586)\n",
      "(7, 'Происшествия', 'Fri', 383089966)\n",
      "(8, 'Культура', 'Thu', 611839522)\n",
      "(8, 'Культура', 'Fri', 272662490)\n",
      "(9, 'Спорт', 'Thu', 971741601)\n",
      "(9, 'Спорт', 'Fri', 360768179)\n",
      "(10, 'Россия', 'Thu', 749907472)\n",
      "(10, 'Россия', 'Fri', 206171558)\n",
      "(11, 'Здоровье', 'Thu', 501787394)\n",
      "(11, 'Здоровье', 'Fri', 179784703)\n",
      "(12, 'Путешествия', 'Thu', 434031435)\n",
      "(12, 'Путешествия', 'Fri', 109592874)\n"
     ]
    }
   ],
   "source": [
    "#Количество публикаций новостей данной категории по дням недели\n",
    "cur.execute(\"with num as( select category_num, date_of_week, sum(id) as sum_pub \\\n",
    "                from ss_news \\\n",
    "                group by category_num, date_of_week \\\n",
    "                order by category_num, date_of_week \\\n",
    "                ) \\\n",
    "                select ac.id, \\\n",
    "                       category, \\\n",
    "                       date_of_week, \\\n",
    "                       sum_pub \\\n",
    "                from categories as ac \\\n",
    "                join num on num.category_num = ac.id\")\n",
    "dirs = cur.fetchall()\n",
    "for row in dirs[-20:]:\n",
    "    \n",
    "    print(row)"
   ]
  },
  {
   "cell_type": "raw",
   "id": "adf7ab69",
   "metadata": {},
   "source": [
    "INSERT INTO vitrin_4 SELECT * FROM vit_1\n",
    "\n",
    "CREATE TABLE IF NOT EXISTS vitrin_4 (\n",
    "    ID INT GENERATED ALWAYS AS IDENTITY PRIMARY KEY,\n",
    "    category_num INTEGER NOT NULL, \n",
    "    category CHARACTER VARYING(100) NOT NULL,\n",
    "    date_of_week CHARACTER VARYING(30) NOT NULL,\n",
    "    sum_per_DoF INTEGER NOT NULL\n",
    "    )  \n",
    "\n",
    "INSERT INTO vitrin_4 (category_num, category, date_of_week, sum_per_DoF) \n",
    "SELECT *\n",
    "FROM vitrin_4    "
   ]
  }
 ],
 "metadata": {
  "kernelspec": {
   "display_name": "Python 3 (ipykernel)",
   "language": "python",
   "name": "python3"
  },
  "language_info": {
   "codemirror_mode": {
    "name": "ipython",
    "version": 3
   },
   "file_extension": ".py",
   "mimetype": "text/x-python",
   "name": "python",
   "nbconvert_exporter": "python",
   "pygments_lexer": "ipython3",
   "version": "3.9.12"
  },
  "toc": {
   "base_numbering": 1,
   "nav_menu": {},
   "number_sections": true,
   "sideBar": true,
   "skip_h1_title": false,
   "title_cell": "Table of Contents",
   "title_sidebar": "Contents",
   "toc_cell": false,
   "toc_position": {
    "height": "calc(100% - 180px)",
    "left": "10px",
    "top": "150px",
    "width": "165px"
   },
   "toc_section_display": true,
   "toc_window_display": true
  }
 },
 "nbformat": 4,
 "nbformat_minor": 5
}
